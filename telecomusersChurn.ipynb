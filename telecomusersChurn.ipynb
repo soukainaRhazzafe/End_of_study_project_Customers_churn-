{
  "cells": [
    {
      "cell_type": "markdown",
      "metadata": {
        "id": "view-in-github",
        "colab_type": "text"
      },
      "source": [
        "<a href=\"https://colab.research.google.com/gist/soukainaRhazzafe/018c782da344991b02dbf5f9bb6de7fb/telecomusers-tru-1.ipynb\" target=\"_parent\"><img src=\"https://colab.research.google.com/assets/colab-badge.svg\" alt=\"Open In Colab\"/></a>"
      ]
    },
    {
      "cell_type": "markdown",
      "id": "3e3dd3f8",
      "metadata": {
        "id": "3e3dd3f8"
      },
      "source": [
        "## Importing modules and libraries"
      ]
    },
    {
      "cell_type": "code",
      "execution_count": null,
      "id": "20c541a0",
      "metadata": {
        "id": "20c541a0"
      },
      "outputs": [],
      "source": [
        "import pandas as pd\n",
        "import matplotlib as mp\n",
        "import numpy as np\n",
        "import seaborn as sns\n",
        "import matplotlib.pyplot as plt"
      ]
    },
    {
      "cell_type": "markdown",
      "id": "aefb2550",
      "metadata": {
        "id": "aefb2550"
      },
      "source": [
        "## Importing the dataset"
      ]
    },
    {
      "cell_type": "code",
      "execution_count": null,
      "id": "934353ec",
      "metadata": {
        "id": "934353ec",
        "outputId": "9656197a-c93f-42eb-90d7-6c5c74aac0e2"
      },
      "outputs": [
        {
          "data": {
            "text/html": [
              "<div>\n",
              "<style scoped>\n",
              "    .dataframe tbody tr th:only-of-type {\n",
              "        vertical-align: middle;\n",
              "    }\n",
              "\n",
              "    .dataframe tbody tr th {\n",
              "        vertical-align: top;\n",
              "    }\n",
              "\n",
              "    .dataframe thead th {\n",
              "        text-align: right;\n",
              "    }\n",
              "</style>\n",
              "<table border=\"1\" class=\"dataframe\">\n",
              "  <thead>\n",
              "    <tr style=\"text-align: right;\">\n",
              "      <th></th>\n",
              "      <th>Unnamed: 0</th>\n",
              "      <th>customerID</th>\n",
              "      <th>gender</th>\n",
              "      <th>SeniorCitizen</th>\n",
              "      <th>Partner</th>\n",
              "      <th>Dependents</th>\n",
              "      <th>tenure</th>\n",
              "      <th>PhoneService</th>\n",
              "      <th>MultipleLines</th>\n",
              "      <th>InternetService</th>\n",
              "      <th>...</th>\n",
              "      <th>DeviceProtection</th>\n",
              "      <th>TechSupport</th>\n",
              "      <th>StreamingTV</th>\n",
              "      <th>StreamingMovies</th>\n",
              "      <th>Contract</th>\n",
              "      <th>PaperlessBilling</th>\n",
              "      <th>PaymentMethod</th>\n",
              "      <th>MonthlyCharges</th>\n",
              "      <th>TotalCharges</th>\n",
              "      <th>Churn</th>\n",
              "    </tr>\n",
              "  </thead>\n",
              "  <tbody>\n",
              "    <tr>\n",
              "      <th>0</th>\n",
              "      <td>1869</td>\n",
              "      <td>7010-BRBUU</td>\n",
              "      <td>Male</td>\n",
              "      <td>0</td>\n",
              "      <td>Yes</td>\n",
              "      <td>Yes</td>\n",
              "      <td>72</td>\n",
              "      <td>Yes</td>\n",
              "      <td>Yes</td>\n",
              "      <td>No</td>\n",
              "      <td>...</td>\n",
              "      <td>No internet service</td>\n",
              "      <td>No internet service</td>\n",
              "      <td>No internet service</td>\n",
              "      <td>No internet service</td>\n",
              "      <td>Two year</td>\n",
              "      <td>No</td>\n",
              "      <td>Credit card (automatic)</td>\n",
              "      <td>24.10</td>\n",
              "      <td>1734.65</td>\n",
              "      <td>No</td>\n",
              "    </tr>\n",
              "    <tr>\n",
              "      <th>1</th>\n",
              "      <td>4528</td>\n",
              "      <td>9688-YGXVR</td>\n",
              "      <td>Female</td>\n",
              "      <td>0</td>\n",
              "      <td>No</td>\n",
              "      <td>No</td>\n",
              "      <td>44</td>\n",
              "      <td>Yes</td>\n",
              "      <td>No</td>\n",
              "      <td>Fiber optic</td>\n",
              "      <td>...</td>\n",
              "      <td>Yes</td>\n",
              "      <td>No</td>\n",
              "      <td>Yes</td>\n",
              "      <td>No</td>\n",
              "      <td>Month-to-month</td>\n",
              "      <td>Yes</td>\n",
              "      <td>Credit card (automatic)</td>\n",
              "      <td>88.15</td>\n",
              "      <td>3973.2</td>\n",
              "      <td>No</td>\n",
              "    </tr>\n",
              "    <tr>\n",
              "      <th>2</th>\n",
              "      <td>6344</td>\n",
              "      <td>9286-DOJGF</td>\n",
              "      <td>Female</td>\n",
              "      <td>1</td>\n",
              "      <td>Yes</td>\n",
              "      <td>No</td>\n",
              "      <td>38</td>\n",
              "      <td>Yes</td>\n",
              "      <td>Yes</td>\n",
              "      <td>Fiber optic</td>\n",
              "      <td>...</td>\n",
              "      <td>No</td>\n",
              "      <td>No</td>\n",
              "      <td>No</td>\n",
              "      <td>No</td>\n",
              "      <td>Month-to-month</td>\n",
              "      <td>Yes</td>\n",
              "      <td>Bank transfer (automatic)</td>\n",
              "      <td>74.95</td>\n",
              "      <td>2869.85</td>\n",
              "      <td>Yes</td>\n",
              "    </tr>\n",
              "    <tr>\n",
              "      <th>3</th>\n",
              "      <td>6739</td>\n",
              "      <td>6994-KERXL</td>\n",
              "      <td>Male</td>\n",
              "      <td>0</td>\n",
              "      <td>No</td>\n",
              "      <td>No</td>\n",
              "      <td>4</td>\n",
              "      <td>Yes</td>\n",
              "      <td>No</td>\n",
              "      <td>DSL</td>\n",
              "      <td>...</td>\n",
              "      <td>No</td>\n",
              "      <td>No</td>\n",
              "      <td>No</td>\n",
              "      <td>Yes</td>\n",
              "      <td>Month-to-month</td>\n",
              "      <td>Yes</td>\n",
              "      <td>Electronic check</td>\n",
              "      <td>55.90</td>\n",
              "      <td>238.5</td>\n",
              "      <td>No</td>\n",
              "    </tr>\n",
              "    <tr>\n",
              "      <th>4</th>\n",
              "      <td>432</td>\n",
              "      <td>2181-UAESM</td>\n",
              "      <td>Male</td>\n",
              "      <td>0</td>\n",
              "      <td>No</td>\n",
              "      <td>No</td>\n",
              "      <td>2</td>\n",
              "      <td>Yes</td>\n",
              "      <td>No</td>\n",
              "      <td>DSL</td>\n",
              "      <td>...</td>\n",
              "      <td>Yes</td>\n",
              "      <td>No</td>\n",
              "      <td>No</td>\n",
              "      <td>No</td>\n",
              "      <td>Month-to-month</td>\n",
              "      <td>No</td>\n",
              "      <td>Electronic check</td>\n",
              "      <td>53.45</td>\n",
              "      <td>119.5</td>\n",
              "      <td>No</td>\n",
              "    </tr>\n",
              "    <tr>\n",
              "      <th>5</th>\n",
              "      <td>2215</td>\n",
              "      <td>4312-GVYNH</td>\n",
              "      <td>Female</td>\n",
              "      <td>0</td>\n",
              "      <td>Yes</td>\n",
              "      <td>No</td>\n",
              "      <td>70</td>\n",
              "      <td>No</td>\n",
              "      <td>No phone service</td>\n",
              "      <td>DSL</td>\n",
              "      <td>...</td>\n",
              "      <td>Yes</td>\n",
              "      <td>Yes</td>\n",
              "      <td>No</td>\n",
              "      <td>Yes</td>\n",
              "      <td>Two year</td>\n",
              "      <td>Yes</td>\n",
              "      <td>Bank transfer (automatic)</td>\n",
              "      <td>49.85</td>\n",
              "      <td>3370.2</td>\n",
              "      <td>No</td>\n",
              "    </tr>\n",
              "    <tr>\n",
              "      <th>6</th>\n",
              "      <td>5260</td>\n",
              "      <td>2495-KZNFB</td>\n",
              "      <td>Female</td>\n",
              "      <td>0</td>\n",
              "      <td>No</td>\n",
              "      <td>No</td>\n",
              "      <td>33</td>\n",
              "      <td>Yes</td>\n",
              "      <td>Yes</td>\n",
              "      <td>Fiber optic</td>\n",
              "      <td>...</td>\n",
              "      <td>No</td>\n",
              "      <td>No</td>\n",
              "      <td>No</td>\n",
              "      <td>Yes</td>\n",
              "      <td>Month-to-month</td>\n",
              "      <td>Yes</td>\n",
              "      <td>Electronic check</td>\n",
              "      <td>90.65</td>\n",
              "      <td>2989.6</td>\n",
              "      <td>No</td>\n",
              "    </tr>\n",
              "    <tr>\n",
              "      <th>7</th>\n",
              "      <td>6001</td>\n",
              "      <td>4367-NHWMM</td>\n",
              "      <td>Female</td>\n",
              "      <td>0</td>\n",
              "      <td>No</td>\n",
              "      <td>No</td>\n",
              "      <td>1</td>\n",
              "      <td>No</td>\n",
              "      <td>No phone service</td>\n",
              "      <td>DSL</td>\n",
              "      <td>...</td>\n",
              "      <td>No</td>\n",
              "      <td>No</td>\n",
              "      <td>No</td>\n",
              "      <td>No</td>\n",
              "      <td>Month-to-month</td>\n",
              "      <td>Yes</td>\n",
              "      <td>Mailed check</td>\n",
              "      <td>24.90</td>\n",
              "      <td>24.9</td>\n",
              "      <td>No</td>\n",
              "    </tr>\n",
              "    <tr>\n",
              "      <th>8</th>\n",
              "      <td>1480</td>\n",
              "      <td>8898-KASCD</td>\n",
              "      <td>Male</td>\n",
              "      <td>0</td>\n",
              "      <td>No</td>\n",
              "      <td>No</td>\n",
              "      <td>39</td>\n",
              "      <td>No</td>\n",
              "      <td>No phone service</td>\n",
              "      <td>DSL</td>\n",
              "      <td>...</td>\n",
              "      <td>Yes</td>\n",
              "      <td>Yes</td>\n",
              "      <td>No</td>\n",
              "      <td>No</td>\n",
              "      <td>One year</td>\n",
              "      <td>No</td>\n",
              "      <td>Mailed check</td>\n",
              "      <td>35.55</td>\n",
              "      <td>1309.15</td>\n",
              "      <td>No</td>\n",
              "    </tr>\n",
              "    <tr>\n",
              "      <th>9</th>\n",
              "      <td>5137</td>\n",
              "      <td>8016-NCFVO</td>\n",
              "      <td>Male</td>\n",
              "      <td>1</td>\n",
              "      <td>No</td>\n",
              "      <td>No</td>\n",
              "      <td>55</td>\n",
              "      <td>Yes</td>\n",
              "      <td>Yes</td>\n",
              "      <td>Fiber optic</td>\n",
              "      <td>...</td>\n",
              "      <td>Yes</td>\n",
              "      <td>Yes</td>\n",
              "      <td>Yes</td>\n",
              "      <td>Yes</td>\n",
              "      <td>Month-to-month</td>\n",
              "      <td>Yes</td>\n",
              "      <td>Electronic check</td>\n",
              "      <td>116.50</td>\n",
              "      <td>6382.55</td>\n",
              "      <td>No</td>\n",
              "    </tr>\n",
              "  </tbody>\n",
              "</table>\n",
              "<p>10 rows × 22 columns</p>\n",
              "</div>"
            ],
            "text/plain": [
              "   Unnamed: 0  customerID  gender  SeniorCitizen Partner Dependents  tenure  \\\n",
              "0        1869  7010-BRBUU    Male              0     Yes        Yes      72   \n",
              "1        4528  9688-YGXVR  Female              0      No         No      44   \n",
              "2        6344  9286-DOJGF  Female              1     Yes         No      38   \n",
              "3        6739  6994-KERXL    Male              0      No         No       4   \n",
              "4         432  2181-UAESM    Male              0      No         No       2   \n",
              "5        2215  4312-GVYNH  Female              0     Yes         No      70   \n",
              "6        5260  2495-KZNFB  Female              0      No         No      33   \n",
              "7        6001  4367-NHWMM  Female              0      No         No       1   \n",
              "8        1480  8898-KASCD    Male              0      No         No      39   \n",
              "9        5137  8016-NCFVO    Male              1      No         No      55   \n",
              "\n",
              "  PhoneService     MultipleLines InternetService  ...     DeviceProtection  \\\n",
              "0          Yes               Yes              No  ...  No internet service   \n",
              "1          Yes                No     Fiber optic  ...                  Yes   \n",
              "2          Yes               Yes     Fiber optic  ...                   No   \n",
              "3          Yes                No             DSL  ...                   No   \n",
              "4          Yes                No             DSL  ...                  Yes   \n",
              "5           No  No phone service             DSL  ...                  Yes   \n",
              "6          Yes               Yes     Fiber optic  ...                   No   \n",
              "7           No  No phone service             DSL  ...                   No   \n",
              "8           No  No phone service             DSL  ...                  Yes   \n",
              "9          Yes               Yes     Fiber optic  ...                  Yes   \n",
              "\n",
              "           TechSupport          StreamingTV      StreamingMovies  \\\n",
              "0  No internet service  No internet service  No internet service   \n",
              "1                   No                  Yes                   No   \n",
              "2                   No                   No                   No   \n",
              "3                   No                   No                  Yes   \n",
              "4                   No                   No                   No   \n",
              "5                  Yes                   No                  Yes   \n",
              "6                   No                   No                  Yes   \n",
              "7                   No                   No                   No   \n",
              "8                  Yes                   No                   No   \n",
              "9                  Yes                  Yes                  Yes   \n",
              "\n",
              "         Contract PaperlessBilling              PaymentMethod MonthlyCharges  \\\n",
              "0        Two year               No    Credit card (automatic)          24.10   \n",
              "1  Month-to-month              Yes    Credit card (automatic)          88.15   \n",
              "2  Month-to-month              Yes  Bank transfer (automatic)          74.95   \n",
              "3  Month-to-month              Yes           Electronic check          55.90   \n",
              "4  Month-to-month               No           Electronic check          53.45   \n",
              "5        Two year              Yes  Bank transfer (automatic)          49.85   \n",
              "6  Month-to-month              Yes           Electronic check          90.65   \n",
              "7  Month-to-month              Yes               Mailed check          24.90   \n",
              "8        One year               No               Mailed check          35.55   \n",
              "9  Month-to-month              Yes           Electronic check         116.50   \n",
              "\n",
              "  TotalCharges  Churn  \n",
              "0      1734.65     No  \n",
              "1       3973.2     No  \n",
              "2      2869.85    Yes  \n",
              "3        238.5     No  \n",
              "4        119.5     No  \n",
              "5       3370.2     No  \n",
              "6       2989.6     No  \n",
              "7         24.9     No  \n",
              "8      1309.15     No  \n",
              "9      6382.55     No  \n",
              "\n",
              "[10 rows x 22 columns]"
            ]
          },
          "execution_count": 2,
          "metadata": {},
          "output_type": "execute_result"
        }
      ],
      "source": [
        "users= pd.read_csv(\"telecom_users.csv\" , sep=\",\")\n",
        "users.head(10)"
      ]
    },
    {
      "cell_type": "code",
      "execution_count": null,
      "id": "912ca8a3",
      "metadata": {
        "id": "912ca8a3",
        "outputId": "fa7762e0-3623-47a6-a677-b34f74f5a692"
      },
      "outputs": [
        {
          "name": "stdout",
          "output_type": "stream",
          "text": [
            "<class 'pandas.core.frame.DataFrame'>\n",
            "RangeIndex: 5986 entries, 0 to 5985\n",
            "Data columns (total 22 columns):\n",
            " #   Column            Non-Null Count  Dtype  \n",
            "---  ------            --------------  -----  \n",
            " 0   Unnamed: 0        5986 non-null   int64  \n",
            " 1   customerID        5986 non-null   object \n",
            " 2   gender            5986 non-null   object \n",
            " 3   SeniorCitizen     5986 non-null   int64  \n",
            " 4   Partner           5986 non-null   object \n",
            " 5   Dependents        5986 non-null   object \n",
            " 6   tenure            5986 non-null   int64  \n",
            " 7   PhoneService      5986 non-null   object \n",
            " 8   MultipleLines     5986 non-null   object \n",
            " 9   InternetService   5986 non-null   object \n",
            " 10  OnlineSecurity    5986 non-null   object \n",
            " 11  OnlineBackup      5986 non-null   object \n",
            " 12  DeviceProtection  5986 non-null   object \n",
            " 13  TechSupport       5986 non-null   object \n",
            " 14  StreamingTV       5986 non-null   object \n",
            " 15  StreamingMovies   5986 non-null   object \n",
            " 16  Contract          5986 non-null   object \n",
            " 17  PaperlessBilling  5986 non-null   object \n",
            " 18  PaymentMethod     5986 non-null   object \n",
            " 19  MonthlyCharges    5986 non-null   float64\n",
            " 20  TotalCharges      5985 non-null   object \n",
            " 21  Churn             5986 non-null   object \n",
            "dtypes: float64(1), int64(3), object(18)\n",
            "memory usage: 1.0+ MB\n"
          ]
        }
      ],
      "source": [
        "users.info()"
      ]
    },
    {
      "cell_type": "code",
      "execution_count": null,
      "id": "3bef6302",
      "metadata": {
        "id": "3bef6302"
      },
      "outputs": [],
      "source": [
        "users = users.drop(columns=['Unnamed: 0','customerID'])"
      ]
    },
    {
      "cell_type": "markdown",
      "id": "48e6aba2",
      "metadata": {
        "id": "48e6aba2"
      },
      "source": [
        "## First look at the dataset"
      ]
    },
    {
      "cell_type": "markdown",
      "id": "6dfad786",
      "metadata": {
        "id": "6dfad786"
      },
      "source": [
        "###  'SenioCitizens' should have categorical values"
      ]
    },
    {
      "cell_type": "code",
      "execution_count": null,
      "id": "6398c690",
      "metadata": {
        "id": "6398c690"
      },
      "outputs": [],
      "source": [
        "users['SeniorCitizen'] = users['SeniorCitizen'].replace({1:'Yes', 0:'No' })"
      ]
    },
    {
      "cell_type": "markdown",
      "id": "0b8c2c3a",
      "metadata": {
        "id": "0b8c2c3a"
      },
      "source": [
        "## Dropping irrelevant columns"
      ]
    },
    {
      "cell_type": "code",
      "execution_count": null,
      "id": "f061c248",
      "metadata": {
        "id": "f061c248",
        "outputId": "ffb79799-002c-4725-97d2-d7b63aac7363"
      },
      "outputs": [
        {
          "name": "stdout",
          "output_type": "stream",
          "text": [
            "<class 'pandas.core.frame.DataFrame'>\n",
            "RangeIndex: 5986 entries, 0 to 5985\n",
            "Data columns (total 20 columns):\n",
            " #   Column            Non-Null Count  Dtype  \n",
            "---  ------            --------------  -----  \n",
            " 0   gender            5986 non-null   object \n",
            " 1   SeniorCitizen     5986 non-null   object \n",
            " 2   Partner           5986 non-null   object \n",
            " 3   Dependents        5986 non-null   object \n",
            " 4   tenure            5986 non-null   int64  \n",
            " 5   PhoneService      5986 non-null   object \n",
            " 6   MultipleLines     5986 non-null   object \n",
            " 7   InternetService   5986 non-null   object \n",
            " 8   OnlineSecurity    5986 non-null   object \n",
            " 9   OnlineBackup      5986 non-null   object \n",
            " 10  DeviceProtection  5986 non-null   object \n",
            " 11  TechSupport       5986 non-null   object \n",
            " 12  StreamingTV       5986 non-null   object \n",
            " 13  StreamingMovies   5986 non-null   object \n",
            " 14  Contract          5986 non-null   object \n",
            " 15  PaperlessBilling  5986 non-null   object \n",
            " 16  PaymentMethod     5986 non-null   object \n",
            " 17  MonthlyCharges    5986 non-null   float64\n",
            " 18  TotalCharges      5985 non-null   object \n",
            " 19  Churn             5986 non-null   object \n",
            "dtypes: float64(1), int64(1), object(18)\n",
            "memory usage: 935.4+ KB\n"
          ]
        }
      ],
      "source": [
        "users.info()"
      ]
    },
    {
      "cell_type": "markdown",
      "id": "79f4f8ee",
      "metadata": {
        "id": "79f4f8ee"
      },
      "source": [
        "## Converting 'TotelCharges' column to float"
      ]
    },
    {
      "cell_type": "code",
      "execution_count": null,
      "id": "ae4c766f",
      "metadata": {
        "id": "ae4c766f"
      },
      "outputs": [],
      "source": [
        "users['TotalCharges'] = pd.to_numeric(users.TotalCharges, errors='coerce')"
      ]
    },
    {
      "cell_type": "markdown",
      "id": "0a55facc",
      "metadata": {
        "id": "0a55facc"
      },
      "source": [
        "## Checking for duplicates"
      ]
    },
    {
      "cell_type": "code",
      "execution_count": null,
      "id": "11cc0315",
      "metadata": {
        "id": "11cc0315",
        "outputId": "a11605fe-a0ce-4449-a279-3c539d6f51e0"
      },
      "outputs": [
        {
          "data": {
            "text/plain": [
              "16"
            ]
          },
          "execution_count": 8,
          "metadata": {},
          "output_type": "execute_result"
        }
      ],
      "source": [
        "users.duplicated().sum()"
      ]
    },
    {
      "cell_type": "markdown",
      "id": "b6b8fad1",
      "metadata": {
        "id": "b6b8fad1"
      },
      "source": [
        "### There are16 duplicated rows."
      ]
    },
    {
      "cell_type": "markdown",
      "id": "c4beac04",
      "metadata": {
        "id": "c4beac04"
      },
      "source": [
        "### Dropping duplicates"
      ]
    },
    {
      "cell_type": "code",
      "execution_count": null,
      "id": "8c4cab49",
      "metadata": {
        "id": "8c4cab49"
      },
      "outputs": [],
      "source": [
        "users = users.drop_duplicates()"
      ]
    },
    {
      "cell_type": "markdown",
      "id": "ad33062a",
      "metadata": {
        "id": "ad33062a"
      },
      "source": [
        "# Describing numerical data"
      ]
    },
    {
      "cell_type": "code",
      "execution_count": null,
      "id": "f1786840",
      "metadata": {
        "scrolled": true,
        "id": "f1786840",
        "outputId": "b35ddacc-9821-43a2-d6d3-bd8a393e4478"
      },
      "outputs": [
        {
          "data": {
            "text/html": [
              "<div>\n",
              "<style scoped>\n",
              "    .dataframe tbody tr th:only-of-type {\n",
              "        vertical-align: middle;\n",
              "    }\n",
              "\n",
              "    .dataframe tbody tr th {\n",
              "        vertical-align: top;\n",
              "    }\n",
              "\n",
              "    .dataframe thead th {\n",
              "        text-align: right;\n",
              "    }\n",
              "</style>\n",
              "<table border=\"1\" class=\"dataframe\">\n",
              "  <thead>\n",
              "    <tr style=\"text-align: right;\">\n",
              "      <th></th>\n",
              "      <th>tenure</th>\n",
              "      <th>MonthlyCharges</th>\n",
              "      <th>TotalCharges</th>\n",
              "    </tr>\n",
              "  </thead>\n",
              "  <tbody>\n",
              "    <tr>\n",
              "      <th>count</th>\n",
              "      <td>5970.000000</td>\n",
              "      <td>5970.000000</td>\n",
              "      <td>5960.000000</td>\n",
              "    </tr>\n",
              "    <tr>\n",
              "      <th>mean</th>\n",
              "      <td>32.553099</td>\n",
              "      <td>64.871926</td>\n",
              "      <td>2304.125772</td>\n",
              "    </tr>\n",
              "    <tr>\n",
              "      <th>std</th>\n",
              "      <td>24.494958</td>\n",
              "      <td>30.102688</td>\n",
              "      <td>2274.158543</td>\n",
              "    </tr>\n",
              "    <tr>\n",
              "      <th>min</th>\n",
              "      <td>0.000000</td>\n",
              "      <td>18.250000</td>\n",
              "      <td>18.800000</td>\n",
              "    </tr>\n",
              "    <tr>\n",
              "      <th>25%</th>\n",
              "      <td>9.000000</td>\n",
              "      <td>35.750000</td>\n",
              "      <td>412.012500</td>\n",
              "    </tr>\n",
              "    <tr>\n",
              "      <th>50%</th>\n",
              "      <td>29.000000</td>\n",
              "      <td>70.450000</td>\n",
              "      <td>1416.025000</td>\n",
              "    </tr>\n",
              "    <tr>\n",
              "      <th>75%</th>\n",
              "      <td>56.000000</td>\n",
              "      <td>89.937500</td>\n",
              "      <td>3852.775000</td>\n",
              "    </tr>\n",
              "    <tr>\n",
              "      <th>max</th>\n",
              "      <td>72.000000</td>\n",
              "      <td>118.750000</td>\n",
              "      <td>8684.800000</td>\n",
              "    </tr>\n",
              "  </tbody>\n",
              "</table>\n",
              "</div>"
            ],
            "text/plain": [
              "            tenure  MonthlyCharges  TotalCharges\n",
              "count  5970.000000     5970.000000   5960.000000\n",
              "mean     32.553099       64.871926   2304.125772\n",
              "std      24.494958       30.102688   2274.158543\n",
              "min       0.000000       18.250000     18.800000\n",
              "25%       9.000000       35.750000    412.012500\n",
              "50%      29.000000       70.450000   1416.025000\n",
              "75%      56.000000       89.937500   3852.775000\n",
              "max      72.000000      118.750000   8684.800000"
            ]
          },
          "execution_count": 10,
          "metadata": {},
          "output_type": "execute_result"
        }
      ],
      "source": [
        "users.describe()"
      ]
    },
    {
      "cell_type": "markdown",
      "id": "8839b40b",
      "metadata": {
        "id": "8839b40b"
      },
      "source": [
        "### There seems to be 10 missing values in the 'TotalCharges' column.\n"
      ]
    },
    {
      "cell_type": "code",
      "execution_count": null,
      "id": "bfe05a23",
      "metadata": {
        "id": "bfe05a23",
        "outputId": "698daae0-98b6-4a84-f2b6-d98b7111d931"
      },
      "outputs": [
        {
          "data": {
            "text/plain": [
              "gender               0\n",
              "SeniorCitizen        0\n",
              "Partner              0\n",
              "Dependents           0\n",
              "tenure               0\n",
              "PhoneService         0\n",
              "MultipleLines        0\n",
              "InternetService      0\n",
              "OnlineSecurity       0\n",
              "OnlineBackup         0\n",
              "DeviceProtection     0\n",
              "TechSupport          0\n",
              "StreamingTV          0\n",
              "StreamingMovies      0\n",
              "Contract             0\n",
              "PaperlessBilling     0\n",
              "PaymentMethod        0\n",
              "MonthlyCharges       0\n",
              "TotalCharges        10\n",
              "Churn                0\n",
              "dtype: int64"
            ]
          },
          "execution_count": 11,
          "metadata": {},
          "output_type": "execute_result"
        }
      ],
      "source": [
        "users.isnull().sum()"
      ]
    },
    {
      "cell_type": "code",
      "execution_count": null,
      "id": "12a2a221",
      "metadata": {
        "id": "12a2a221",
        "outputId": "b65399c1-9a71-4a71-dce8-46b2363a6d90"
      },
      "outputs": [
        {
          "data": {
            "text/plain": [
              "gender              5970\n",
              "SeniorCitizen       5970\n",
              "Partner             5970\n",
              "Dependents          5970\n",
              "tenure              5970\n",
              "PhoneService        5970\n",
              "MultipleLines       5970\n",
              "InternetService     5970\n",
              "OnlineSecurity      5970\n",
              "OnlineBackup        5970\n",
              "DeviceProtection    5970\n",
              "TechSupport         5970\n",
              "StreamingTV         5970\n",
              "StreamingMovies     5970\n",
              "Contract            5970\n",
              "PaperlessBilling    5970\n",
              "PaymentMethod       5970\n",
              "MonthlyCharges      5970\n",
              "TotalCharges        5960\n",
              "Churn               5970\n",
              "dtype: int64"
            ]
          },
          "execution_count": 12,
          "metadata": {},
          "output_type": "execute_result"
        }
      ],
      "source": [
        "users.count()"
      ]
    },
    {
      "cell_type": "markdown",
      "id": "90f29589",
      "metadata": {
        "id": "90f29589"
      },
      "source": [
        "### There 10 missing values in the 'TotalCharges' column.\n"
      ]
    },
    {
      "cell_type": "markdown",
      "id": "2b258285",
      "metadata": {
        "id": "2b258285"
      },
      "source": [
        "## Replacing missing values :"
      ]
    },
    {
      "cell_type": "code",
      "execution_count": null,
      "id": "bca8d475",
      "metadata": {
        "id": "bca8d475",
        "outputId": "fbef37fe-9211-408b-a64e-66e9ab3b2558"
      },
      "outputs": [
        {
          "data": {
            "text/html": [
              "<div>\n",
              "<style scoped>\n",
              "    .dataframe tbody tr th:only-of-type {\n",
              "        vertical-align: middle;\n",
              "    }\n",
              "\n",
              "    .dataframe tbody tr th {\n",
              "        vertical-align: top;\n",
              "    }\n",
              "\n",
              "    .dataframe thead th {\n",
              "        text-align: right;\n",
              "    }\n",
              "</style>\n",
              "<table border=\"1\" class=\"dataframe\">\n",
              "  <thead>\n",
              "    <tr style=\"text-align: right;\">\n",
              "      <th></th>\n",
              "      <th>gender</th>\n",
              "      <th>SeniorCitizen</th>\n",
              "      <th>Partner</th>\n",
              "      <th>Dependents</th>\n",
              "      <th>tenure</th>\n",
              "      <th>PhoneService</th>\n",
              "      <th>MultipleLines</th>\n",
              "      <th>InternetService</th>\n",
              "      <th>OnlineSecurity</th>\n",
              "      <th>OnlineBackup</th>\n",
              "      <th>DeviceProtection</th>\n",
              "      <th>TechSupport</th>\n",
              "      <th>StreamingTV</th>\n",
              "      <th>StreamingMovies</th>\n",
              "      <th>Contract</th>\n",
              "      <th>PaperlessBilling</th>\n",
              "      <th>PaymentMethod</th>\n",
              "      <th>MonthlyCharges</th>\n",
              "      <th>TotalCharges</th>\n",
              "      <th>Churn</th>\n",
              "    </tr>\n",
              "  </thead>\n",
              "  <tbody>\n",
              "    <tr>\n",
              "      <th>0</th>\n",
              "      <td>Male</td>\n",
              "      <td>No</td>\n",
              "      <td>Yes</td>\n",
              "      <td>Yes</td>\n",
              "      <td>72</td>\n",
              "      <td>Yes</td>\n",
              "      <td>Yes</td>\n",
              "      <td>No</td>\n",
              "      <td>No internet service</td>\n",
              "      <td>No internet service</td>\n",
              "      <td>No internet service</td>\n",
              "      <td>No internet service</td>\n",
              "      <td>No internet service</td>\n",
              "      <td>No internet service</td>\n",
              "      <td>Two year</td>\n",
              "      <td>No</td>\n",
              "      <td>Credit card (automatic)</td>\n",
              "      <td>24.10</td>\n",
              "      <td>1734.65</td>\n",
              "      <td>No</td>\n",
              "    </tr>\n",
              "    <tr>\n",
              "      <th>1</th>\n",
              "      <td>Female</td>\n",
              "      <td>No</td>\n",
              "      <td>No</td>\n",
              "      <td>No</td>\n",
              "      <td>44</td>\n",
              "      <td>Yes</td>\n",
              "      <td>No</td>\n",
              "      <td>Fiber optic</td>\n",
              "      <td>No</td>\n",
              "      <td>Yes</td>\n",
              "      <td>Yes</td>\n",
              "      <td>No</td>\n",
              "      <td>Yes</td>\n",
              "      <td>No</td>\n",
              "      <td>Month-to-month</td>\n",
              "      <td>Yes</td>\n",
              "      <td>Credit card (automatic)</td>\n",
              "      <td>88.15</td>\n",
              "      <td>3973.20</td>\n",
              "      <td>No</td>\n",
              "    </tr>\n",
              "    <tr>\n",
              "      <th>2</th>\n",
              "      <td>Female</td>\n",
              "      <td>Yes</td>\n",
              "      <td>Yes</td>\n",
              "      <td>No</td>\n",
              "      <td>38</td>\n",
              "      <td>Yes</td>\n",
              "      <td>Yes</td>\n",
              "      <td>Fiber optic</td>\n",
              "      <td>No</td>\n",
              "      <td>No</td>\n",
              "      <td>No</td>\n",
              "      <td>No</td>\n",
              "      <td>No</td>\n",
              "      <td>No</td>\n",
              "      <td>Month-to-month</td>\n",
              "      <td>Yes</td>\n",
              "      <td>Bank transfer (automatic)</td>\n",
              "      <td>74.95</td>\n",
              "      <td>2869.85</td>\n",
              "      <td>Yes</td>\n",
              "    </tr>\n",
              "    <tr>\n",
              "      <th>3</th>\n",
              "      <td>Male</td>\n",
              "      <td>No</td>\n",
              "      <td>No</td>\n",
              "      <td>No</td>\n",
              "      <td>4</td>\n",
              "      <td>Yes</td>\n",
              "      <td>No</td>\n",
              "      <td>DSL</td>\n",
              "      <td>No</td>\n",
              "      <td>No</td>\n",
              "      <td>No</td>\n",
              "      <td>No</td>\n",
              "      <td>No</td>\n",
              "      <td>Yes</td>\n",
              "      <td>Month-to-month</td>\n",
              "      <td>Yes</td>\n",
              "      <td>Electronic check</td>\n",
              "      <td>55.90</td>\n",
              "      <td>238.50</td>\n",
              "      <td>No</td>\n",
              "    </tr>\n",
              "    <tr>\n",
              "      <th>4</th>\n",
              "      <td>Male</td>\n",
              "      <td>No</td>\n",
              "      <td>No</td>\n",
              "      <td>No</td>\n",
              "      <td>2</td>\n",
              "      <td>Yes</td>\n",
              "      <td>No</td>\n",
              "      <td>DSL</td>\n",
              "      <td>Yes</td>\n",
              "      <td>No</td>\n",
              "      <td>Yes</td>\n",
              "      <td>No</td>\n",
              "      <td>No</td>\n",
              "      <td>No</td>\n",
              "      <td>Month-to-month</td>\n",
              "      <td>No</td>\n",
              "      <td>Electronic check</td>\n",
              "      <td>53.45</td>\n",
              "      <td>119.50</td>\n",
              "      <td>No</td>\n",
              "    </tr>\n",
              "    <tr>\n",
              "      <th>5</th>\n",
              "      <td>Female</td>\n",
              "      <td>No</td>\n",
              "      <td>Yes</td>\n",
              "      <td>No</td>\n",
              "      <td>70</td>\n",
              "      <td>No</td>\n",
              "      <td>No phone service</td>\n",
              "      <td>DSL</td>\n",
              "      <td>Yes</td>\n",
              "      <td>No</td>\n",
              "      <td>Yes</td>\n",
              "      <td>Yes</td>\n",
              "      <td>No</td>\n",
              "      <td>Yes</td>\n",
              "      <td>Two year</td>\n",
              "      <td>Yes</td>\n",
              "      <td>Bank transfer (automatic)</td>\n",
              "      <td>49.85</td>\n",
              "      <td>3370.20</td>\n",
              "      <td>No</td>\n",
              "    </tr>\n",
              "    <tr>\n",
              "      <th>6</th>\n",
              "      <td>Female</td>\n",
              "      <td>No</td>\n",
              "      <td>No</td>\n",
              "      <td>No</td>\n",
              "      <td>33</td>\n",
              "      <td>Yes</td>\n",
              "      <td>Yes</td>\n",
              "      <td>Fiber optic</td>\n",
              "      <td>Yes</td>\n",
              "      <td>No</td>\n",
              "      <td>No</td>\n",
              "      <td>No</td>\n",
              "      <td>No</td>\n",
              "      <td>Yes</td>\n",
              "      <td>Month-to-month</td>\n",
              "      <td>Yes</td>\n",
              "      <td>Electronic check</td>\n",
              "      <td>90.65</td>\n",
              "      <td>2989.60</td>\n",
              "      <td>No</td>\n",
              "    </tr>\n",
              "  </tbody>\n",
              "</table>\n",
              "</div>"
            ],
            "text/plain": [
              "   gender SeniorCitizen Partner Dependents  tenure PhoneService  \\\n",
              "0    Male            No     Yes        Yes      72          Yes   \n",
              "1  Female            No      No         No      44          Yes   \n",
              "2  Female           Yes     Yes         No      38          Yes   \n",
              "3    Male            No      No         No       4          Yes   \n",
              "4    Male            No      No         No       2          Yes   \n",
              "5  Female            No     Yes         No      70           No   \n",
              "6  Female            No      No         No      33          Yes   \n",
              "\n",
              "      MultipleLines InternetService       OnlineSecurity         OnlineBackup  \\\n",
              "0               Yes              No  No internet service  No internet service   \n",
              "1                No     Fiber optic                   No                  Yes   \n",
              "2               Yes     Fiber optic                   No                   No   \n",
              "3                No             DSL                   No                   No   \n",
              "4                No             DSL                  Yes                   No   \n",
              "5  No phone service             DSL                  Yes                   No   \n",
              "6               Yes     Fiber optic                  Yes                   No   \n",
              "\n",
              "      DeviceProtection          TechSupport          StreamingTV  \\\n",
              "0  No internet service  No internet service  No internet service   \n",
              "1                  Yes                   No                  Yes   \n",
              "2                   No                   No                   No   \n",
              "3                   No                   No                   No   \n",
              "4                  Yes                   No                   No   \n",
              "5                  Yes                  Yes                   No   \n",
              "6                   No                   No                   No   \n",
              "\n",
              "       StreamingMovies        Contract PaperlessBilling  \\\n",
              "0  No internet service        Two year               No   \n",
              "1                   No  Month-to-month              Yes   \n",
              "2                   No  Month-to-month              Yes   \n",
              "3                  Yes  Month-to-month              Yes   \n",
              "4                   No  Month-to-month               No   \n",
              "5                  Yes        Two year              Yes   \n",
              "6                  Yes  Month-to-month              Yes   \n",
              "\n",
              "               PaymentMethod  MonthlyCharges  TotalCharges Churn  \n",
              "0    Credit card (automatic)           24.10       1734.65    No  \n",
              "1    Credit card (automatic)           88.15       3973.20    No  \n",
              "2  Bank transfer (automatic)           74.95       2869.85   Yes  \n",
              "3           Electronic check           55.90        238.50    No  \n",
              "4           Electronic check           53.45        119.50    No  \n",
              "5  Bank transfer (automatic)           49.85       3370.20    No  \n",
              "6           Electronic check           90.65       2989.60    No  "
            ]
          },
          "execution_count": 13,
          "metadata": {},
          "output_type": "execute_result"
        }
      ],
      "source": [
        "users.head(7)"
      ]
    },
    {
      "cell_type": "markdown",
      "id": "c4b4b397",
      "metadata": {
        "id": "c4b4b397"
      },
      "source": [
        "### Finding correlation between quantitative values :"
      ]
    },
    {
      "cell_type": "code",
      "execution_count": null,
      "id": "cec80591",
      "metadata": {
        "id": "cec80591",
        "outputId": "76a32933-6afa-46ff-9f26-d1f2d12d5f21"
      },
      "outputs": [
        {
          "data": {
            "image/png": "[encoded data removed]",
            "text/plain": [
              "<Figure size 432x288 with 1 Axes>"
            ]
          },
          "metadata": {
            "needs_background": "light"
          },
          "output_type": "display_data"
        }
      ],
      "source": [
        "sns.lineplot(x=users.tenure*users.MonthlyCharges,y=users.TotalCharges,color='#ffb997')\n",
        "plt.title('Total charges by tenure*MonthlyCharges')\n",
        "plt.show()"
      ]
    },
    {
      "cell_type": "markdown",
      "id": "ddcceb07",
      "metadata": {
        "id": "ddcceb07"
      },
      "source": [
        "### 'TotalCharges' column is propotionnal to 'tenure'*'MonthlyCharges'"
      ]
    },
    {
      "cell_type": "code",
      "execution_count": null,
      "id": "e6bdb476",
      "metadata": {
        "id": "e6bdb476",
        "outputId": "88c40bd1-76f0-4d69-ee19-0f3319645f90"
      },
      "outputs": [
        {
          "data": {
            "text/html": [
              "<div>\n",
              "<style scoped>\n",
              "    .dataframe tbody tr th:only-of-type {\n",
              "        vertical-align: middle;\n",
              "    }\n",
              "\n",
              "    .dataframe tbody tr th {\n",
              "        vertical-align: top;\n",
              "    }\n",
              "\n",
              "    .dataframe thead th {\n",
              "        text-align: right;\n",
              "    }\n",
              "</style>\n",
              "<table border=\"1\" class=\"dataframe\">\n",
              "  <thead>\n",
              "    <tr style=\"text-align: right;\">\n",
              "      <th></th>\n",
              "      <th>gender</th>\n",
              "      <th>SeniorCitizen</th>\n",
              "      <th>Partner</th>\n",
              "      <th>Dependents</th>\n",
              "      <th>tenure</th>\n",
              "      <th>PhoneService</th>\n",
              "      <th>MultipleLines</th>\n",
              "      <th>InternetService</th>\n",
              "      <th>OnlineSecurity</th>\n",
              "      <th>OnlineBackup</th>\n",
              "      <th>DeviceProtection</th>\n",
              "      <th>TechSupport</th>\n",
              "      <th>StreamingTV</th>\n",
              "      <th>StreamingMovies</th>\n",
              "      <th>Contract</th>\n",
              "      <th>PaperlessBilling</th>\n",
              "      <th>PaymentMethod</th>\n",
              "      <th>MonthlyCharges</th>\n",
              "      <th>TotalCharges</th>\n",
              "      <th>Churn</th>\n",
              "    </tr>\n",
              "  </thead>\n",
              "  <tbody>\n",
              "    <tr>\n",
              "      <th>356</th>\n",
              "      <td>Male</td>\n",
              "      <td>No</td>\n",
              "      <td>No</td>\n",
              "      <td>Yes</td>\n",
              "      <td>0</td>\n",
              "      <td>Yes</td>\n",
              "      <td>Yes</td>\n",
              "      <td>DSL</td>\n",
              "      <td>Yes</td>\n",
              "      <td>Yes</td>\n",
              "      <td>No</td>\n",
              "      <td>Yes</td>\n",
              "      <td>No</td>\n",
              "      <td>No</td>\n",
              "      <td>Two year</td>\n",
              "      <td>Yes</td>\n",
              "      <td>Bank transfer (automatic)</td>\n",
              "      <td>61.90</td>\n",
              "      <td>NaN</td>\n",
              "      <td>No</td>\n",
              "    </tr>\n",
              "    <tr>\n",
              "      <th>634</th>\n",
              "      <td>Female</td>\n",
              "      <td>No</td>\n",
              "      <td>Yes</td>\n",
              "      <td>Yes</td>\n",
              "      <td>0</td>\n",
              "      <td>No</td>\n",
              "      <td>No phone service</td>\n",
              "      <td>DSL</td>\n",
              "      <td>Yes</td>\n",
              "      <td>Yes</td>\n",
              "      <td>Yes</td>\n",
              "      <td>Yes</td>\n",
              "      <td>Yes</td>\n",
              "      <td>No</td>\n",
              "      <td>Two year</td>\n",
              "      <td>No</td>\n",
              "      <td>Credit card (automatic)</td>\n",
              "      <td>56.05</td>\n",
              "      <td>NaN</td>\n",
              "      <td>No</td>\n",
              "    </tr>\n",
              "    <tr>\n",
              "      <th>2771</th>\n",
              "      <td>Male</td>\n",
              "      <td>No</td>\n",
              "      <td>Yes</td>\n",
              "      <td>Yes</td>\n",
              "      <td>0</td>\n",
              "      <td>Yes</td>\n",
              "      <td>Yes</td>\n",
              "      <td>No</td>\n",
              "      <td>No internet service</td>\n",
              "      <td>No internet service</td>\n",
              "      <td>No internet service</td>\n",
              "      <td>No internet service</td>\n",
              "      <td>No internet service</td>\n",
              "      <td>No internet service</td>\n",
              "      <td>Two year</td>\n",
              "      <td>No</td>\n",
              "      <td>Mailed check</td>\n",
              "      <td>25.35</td>\n",
              "      <td>NaN</td>\n",
              "      <td>No</td>\n",
              "    </tr>\n",
              "    <tr>\n",
              "      <th>3086</th>\n",
              "      <td>Male</td>\n",
              "      <td>No</td>\n",
              "      <td>Yes</td>\n",
              "      <td>Yes</td>\n",
              "      <td>0</td>\n",
              "      <td>Yes</td>\n",
              "      <td>No</td>\n",
              "      <td>No</td>\n",
              "      <td>No internet service</td>\n",
              "      <td>No internet service</td>\n",
              "      <td>No internet service</td>\n",
              "      <td>No internet service</td>\n",
              "      <td>No internet service</td>\n",
              "      <td>No internet service</td>\n",
              "      <td>One year</td>\n",
              "      <td>Yes</td>\n",
              "      <td>Mailed check</td>\n",
              "      <td>19.70</td>\n",
              "      <td>NaN</td>\n",
              "      <td>No</td>\n",
              "    </tr>\n",
              "    <tr>\n",
              "      <th>3255</th>\n",
              "      <td>Male</td>\n",
              "      <td>No</td>\n",
              "      <td>Yes</td>\n",
              "      <td>Yes</td>\n",
              "      <td>0</td>\n",
              "      <td>Yes</td>\n",
              "      <td>No</td>\n",
              "      <td>No</td>\n",
              "      <td>No internet service</td>\n",
              "      <td>No internet service</td>\n",
              "      <td>No internet service</td>\n",
              "      <td>No internet service</td>\n",
              "      <td>No internet service</td>\n",
              "      <td>No internet service</td>\n",
              "      <td>Two year</td>\n",
              "      <td>No</td>\n",
              "      <td>Mailed check</td>\n",
              "      <td>19.85</td>\n",
              "      <td>NaN</td>\n",
              "      <td>No</td>\n",
              "    </tr>\n",
              "    <tr>\n",
              "      <th>4326</th>\n",
              "      <td>Female</td>\n",
              "      <td>No</td>\n",
              "      <td>Yes</td>\n",
              "      <td>Yes</td>\n",
              "      <td>0</td>\n",
              "      <td>Yes</td>\n",
              "      <td>No</td>\n",
              "      <td>DSL</td>\n",
              "      <td>Yes</td>\n",
              "      <td>Yes</td>\n",
              "      <td>Yes</td>\n",
              "      <td>No</td>\n",
              "      <td>Yes</td>\n",
              "      <td>Yes</td>\n",
              "      <td>Two year</td>\n",
              "      <td>No</td>\n",
              "      <td>Mailed check</td>\n",
              "      <td>80.85</td>\n",
              "      <td>NaN</td>\n",
              "      <td>No</td>\n",
              "    </tr>\n",
              "    <tr>\n",
              "      <th>5375</th>\n",
              "      <td>Male</td>\n",
              "      <td>No</td>\n",
              "      <td>No</td>\n",
              "      <td>Yes</td>\n",
              "      <td>0</td>\n",
              "      <td>Yes</td>\n",
              "      <td>No</td>\n",
              "      <td>No</td>\n",
              "      <td>No internet service</td>\n",
              "      <td>No internet service</td>\n",
              "      <td>No internet service</td>\n",
              "      <td>No internet service</td>\n",
              "      <td>No internet service</td>\n",
              "      <td>No internet service</td>\n",
              "      <td>Two year</td>\n",
              "      <td>No</td>\n",
              "      <td>Mailed check</td>\n",
              "      <td>20.25</td>\n",
              "      <td>NaN</td>\n",
              "      <td>No</td>\n",
              "    </tr>\n",
              "    <tr>\n",
              "      <th>5382</th>\n",
              "      <td>Female</td>\n",
              "      <td>No</td>\n",
              "      <td>Yes</td>\n",
              "      <td>Yes</td>\n",
              "      <td>0</td>\n",
              "      <td>Yes</td>\n",
              "      <td>No</td>\n",
              "      <td>No</td>\n",
              "      <td>No internet service</td>\n",
              "      <td>No internet service</td>\n",
              "      <td>No internet service</td>\n",
              "      <td>No internet service</td>\n",
              "      <td>No internet service</td>\n",
              "      <td>No internet service</td>\n",
              "      <td>Two year</td>\n",
              "      <td>No</td>\n",
              "      <td>Mailed check</td>\n",
              "      <td>20.00</td>\n",
              "      <td>NaN</td>\n",
              "      <td>No</td>\n",
              "    </tr>\n",
              "    <tr>\n",
              "      <th>5695</th>\n",
              "      <td>Female</td>\n",
              "      <td>No</td>\n",
              "      <td>Yes</td>\n",
              "      <td>Yes</td>\n",
              "      <td>0</td>\n",
              "      <td>No</td>\n",
              "      <td>No phone service</td>\n",
              "      <td>DSL</td>\n",
              "      <td>Yes</td>\n",
              "      <td>No</td>\n",
              "      <td>Yes</td>\n",
              "      <td>Yes</td>\n",
              "      <td>Yes</td>\n",
              "      <td>No</td>\n",
              "      <td>Two year</td>\n",
              "      <td>Yes</td>\n",
              "      <td>Bank transfer (automatic)</td>\n",
              "      <td>52.55</td>\n",
              "      <td>NaN</td>\n",
              "      <td>No</td>\n",
              "    </tr>\n",
              "    <tr>\n",
              "      <th>5951</th>\n",
              "      <td>Male</td>\n",
              "      <td>No</td>\n",
              "      <td>Yes</td>\n",
              "      <td>Yes</td>\n",
              "      <td>0</td>\n",
              "      <td>Yes</td>\n",
              "      <td>Yes</td>\n",
              "      <td>No</td>\n",
              "      <td>No internet service</td>\n",
              "      <td>No internet service</td>\n",
              "      <td>No internet service</td>\n",
              "      <td>No internet service</td>\n",
              "      <td>No internet service</td>\n",
              "      <td>No internet service</td>\n",
              "      <td>Two year</td>\n",
              "      <td>No</td>\n",
              "      <td>Mailed check</td>\n",
              "      <td>25.75</td>\n",
              "      <td>NaN</td>\n",
              "      <td>No</td>\n",
              "    </tr>\n",
              "  </tbody>\n",
              "</table>\n",
              "</div>"
            ],
            "text/plain": [
              "      gender SeniorCitizen Partner Dependents  tenure PhoneService  \\\n",
              "356     Male            No      No        Yes       0          Yes   \n",
              "634   Female            No     Yes        Yes       0           No   \n",
              "2771    Male            No     Yes        Yes       0          Yes   \n",
              "3086    Male            No     Yes        Yes       0          Yes   \n",
              "3255    Male            No     Yes        Yes       0          Yes   \n",
              "4326  Female            No     Yes        Yes       0          Yes   \n",
              "5375    Male            No      No        Yes       0          Yes   \n",
              "5382  Female            No     Yes        Yes       0          Yes   \n",
              "5695  Female            No     Yes        Yes       0           No   \n",
              "5951    Male            No     Yes        Yes       0          Yes   \n",
              "\n",
              "         MultipleLines InternetService       OnlineSecurity  \\\n",
              "356                Yes             DSL                  Yes   \n",
              "634   No phone service             DSL                  Yes   \n",
              "2771               Yes              No  No internet service   \n",
              "3086                No              No  No internet service   \n",
              "3255                No              No  No internet service   \n",
              "4326                No             DSL                  Yes   \n",
              "5375                No              No  No internet service   \n",
              "5382                No              No  No internet service   \n",
              "5695  No phone service             DSL                  Yes   \n",
              "5951               Yes              No  No internet service   \n",
              "\n",
              "             OnlineBackup     DeviceProtection          TechSupport  \\\n",
              "356                   Yes                   No                  Yes   \n",
              "634                   Yes                  Yes                  Yes   \n",
              "2771  No internet service  No internet service  No internet service   \n",
              "3086  No internet service  No internet service  No internet service   \n",
              "3255  No internet service  No internet service  No internet service   \n",
              "4326                  Yes                  Yes                   No   \n",
              "5375  No internet service  No internet service  No internet service   \n",
              "5382  No internet service  No internet service  No internet service   \n",
              "5695                   No                  Yes                  Yes   \n",
              "5951  No internet service  No internet service  No internet service   \n",
              "\n",
              "              StreamingTV      StreamingMovies  Contract PaperlessBilling  \\\n",
              "356                    No                   No  Two year              Yes   \n",
              "634                   Yes                   No  Two year               No   \n",
              "2771  No internet service  No internet service  Two year               No   \n",
              "3086  No internet service  No internet service  One year              Yes   \n",
              "3255  No internet service  No internet service  Two year               No   \n",
              "4326                  Yes                  Yes  Two year               No   \n",
              "5375  No internet service  No internet service  Two year               No   \n",
              "5382  No internet service  No internet service  Two year               No   \n",
              "5695                  Yes                   No  Two year              Yes   \n",
              "5951  No internet service  No internet service  Two year               No   \n",
              "\n",
              "                  PaymentMethod  MonthlyCharges  TotalCharges Churn  \n",
              "356   Bank transfer (automatic)           61.90           NaN    No  \n",
              "634     Credit card (automatic)           56.05           NaN    No  \n",
              "2771               Mailed check           25.35           NaN    No  \n",
              "3086               Mailed check           19.70           NaN    No  \n",
              "3255               Mailed check           19.85           NaN    No  \n",
              "4326               Mailed check           80.85           NaN    No  \n",
              "5375               Mailed check           20.25           NaN    No  \n",
              "5382               Mailed check           20.00           NaN    No  \n",
              "5695  Bank transfer (automatic)           52.55           NaN    No  \n",
              "5951               Mailed check           25.75           NaN    No  "
            ]
          },
          "execution_count": 15,
          "metadata": {},
          "output_type": "execute_result"
        }
      ],
      "source": [
        "users[users['TotalCharges'].isna()]"
      ]
    },
    {
      "cell_type": "code",
      "execution_count": null,
      "id": "23f09f5f",
      "metadata": {
        "id": "23f09f5f"
      },
      "outputs": [],
      "source": [
        "users.TotalCharges.fillna(users.MonthlyCharges*users.tenure, inplace=True)\n",
        "#'TotalCharges' missing values could be filled with 0 since tenure==0 in all rows"
      ]
    },
    {
      "cell_type": "code",
      "execution_count": null,
      "id": "6621febc",
      "metadata": {
        "id": "6621febc",
        "outputId": "f5163387-8a89-472e-cc1a-b4dbbabbafbe"
      },
      "outputs": [
        {
          "data": {
            "text/plain": [
              "gender              0\n",
              "SeniorCitizen       0\n",
              "Partner             0\n",
              "Dependents          0\n",
              "tenure              0\n",
              "PhoneService        0\n",
              "MultipleLines       0\n",
              "InternetService     0\n",
              "OnlineSecurity      0\n",
              "OnlineBackup        0\n",
              "DeviceProtection    0\n",
              "TechSupport         0\n",
              "StreamingTV         0\n",
              "StreamingMovies     0\n",
              "Contract            0\n",
              "PaperlessBilling    0\n",
              "PaymentMethod       0\n",
              "MonthlyCharges      0\n",
              "TotalCharges        0\n",
              "Churn               0\n",
              "dtype: int64"
            ]
          },
          "execution_count": 17,
          "metadata": {},
          "output_type": "execute_result"
        }
      ],
      "source": [
        "users.isnull().sum()"
      ]
    },
    {
      "cell_type": "code",
      "execution_count": null,
      "id": "b7a1de31",
      "metadata": {
        "id": "b7a1de31",
        "outputId": "9f0fa871-bdf4-482c-cd30-11dbec8b1819"
      },
      "outputs": [
        {
          "data": {
            "text/html": [
              "<div>\n",
              "<style scoped>\n",
              "    .dataframe tbody tr th:only-of-type {\n",
              "        vertical-align: middle;\n",
              "    }\n",
              "\n",
              "    .dataframe tbody tr th {\n",
              "        vertical-align: top;\n",
              "    }\n",
              "\n",
              "    .dataframe thead th {\n",
              "        text-align: right;\n",
              "    }\n",
              "</style>\n",
              "<table border=\"1\" class=\"dataframe\">\n",
              "  <thead>\n",
              "    <tr style=\"text-align: right;\">\n",
              "      <th></th>\n",
              "      <th>gender</th>\n",
              "      <th>SeniorCitizen</th>\n",
              "      <th>Partner</th>\n",
              "      <th>Dependents</th>\n",
              "      <th>tenure</th>\n",
              "      <th>PhoneService</th>\n",
              "      <th>MultipleLines</th>\n",
              "      <th>InternetService</th>\n",
              "      <th>OnlineSecurity</th>\n",
              "      <th>OnlineBackup</th>\n",
              "      <th>DeviceProtection</th>\n",
              "      <th>TechSupport</th>\n",
              "      <th>StreamingTV</th>\n",
              "      <th>StreamingMovies</th>\n",
              "      <th>Contract</th>\n",
              "      <th>PaperlessBilling</th>\n",
              "      <th>PaymentMethod</th>\n",
              "      <th>MonthlyCharges</th>\n",
              "      <th>TotalCharges</th>\n",
              "      <th>Churn</th>\n",
              "    </tr>\n",
              "  </thead>\n",
              "  <tbody>\n",
              "    <tr>\n",
              "      <th>356</th>\n",
              "      <td>Male</td>\n",
              "      <td>No</td>\n",
              "      <td>No</td>\n",
              "      <td>Yes</td>\n",
              "      <td>0</td>\n",
              "      <td>Yes</td>\n",
              "      <td>Yes</td>\n",
              "      <td>DSL</td>\n",
              "      <td>Yes</td>\n",
              "      <td>Yes</td>\n",
              "      <td>No</td>\n",
              "      <td>Yes</td>\n",
              "      <td>No</td>\n",
              "      <td>No</td>\n",
              "      <td>Two year</td>\n",
              "      <td>Yes</td>\n",
              "      <td>Bank transfer (automatic)</td>\n",
              "      <td>61.90</td>\n",
              "      <td>0.0</td>\n",
              "      <td>No</td>\n",
              "    </tr>\n",
              "    <tr>\n",
              "      <th>634</th>\n",
              "      <td>Female</td>\n",
              "      <td>No</td>\n",
              "      <td>Yes</td>\n",
              "      <td>Yes</td>\n",
              "      <td>0</td>\n",
              "      <td>No</td>\n",
              "      <td>No phone service</td>\n",
              "      <td>DSL</td>\n",
              "      <td>Yes</td>\n",
              "      <td>Yes</td>\n",
              "      <td>Yes</td>\n",
              "      <td>Yes</td>\n",
              "      <td>Yes</td>\n",
              "      <td>No</td>\n",
              "      <td>Two year</td>\n",
              "      <td>No</td>\n",
              "      <td>Credit card (automatic)</td>\n",
              "      <td>56.05</td>\n",
              "      <td>0.0</td>\n",
              "      <td>No</td>\n",
              "    </tr>\n",
              "    <tr>\n",
              "      <th>2771</th>\n",
              "      <td>Male</td>\n",
              "      <td>No</td>\n",
              "      <td>Yes</td>\n",
              "      <td>Yes</td>\n",
              "      <td>0</td>\n",
              "      <td>Yes</td>\n",
              "      <td>Yes</td>\n",
              "      <td>No</td>\n",
              "      <td>No internet service</td>\n",
              "      <td>No internet service</td>\n",
              "      <td>No internet service</td>\n",
              "      <td>No internet service</td>\n",
              "      <td>No internet service</td>\n",
              "      <td>No internet service</td>\n",
              "      <td>Two year</td>\n",
              "      <td>No</td>\n",
              "      <td>Mailed check</td>\n",
              "      <td>25.35</td>\n",
              "      <td>0.0</td>\n",
              "      <td>No</td>\n",
              "    </tr>\n",
              "    <tr>\n",
              "      <th>3086</th>\n",
              "      <td>Male</td>\n",
              "      <td>No</td>\n",
              "      <td>Yes</td>\n",
              "      <td>Yes</td>\n",
              "      <td>0</td>\n",
              "      <td>Yes</td>\n",
              "      <td>No</td>\n",
              "      <td>No</td>\n",
              "      <td>No internet service</td>\n",
              "      <td>No internet service</td>\n",
              "      <td>No internet service</td>\n",
              "      <td>No internet service</td>\n",
              "      <td>No internet service</td>\n",
              "      <td>No internet service</td>\n",
              "      <td>One year</td>\n",
              "      <td>Yes</td>\n",
              "      <td>Mailed check</td>\n",
              "      <td>19.70</td>\n",
              "      <td>0.0</td>\n",
              "      <td>No</td>\n",
              "    </tr>\n",
              "    <tr>\n",
              "      <th>3255</th>\n",
              "      <td>Male</td>\n",
              "      <td>No</td>\n",
              "      <td>Yes</td>\n",
              "      <td>Yes</td>\n",
              "      <td>0</td>\n",
              "      <td>Yes</td>\n",
              "      <td>No</td>\n",
              "      <td>No</td>\n",
              "      <td>No internet service</td>\n",
              "      <td>No internet service</td>\n",
              "      <td>No internet service</td>\n",
              "      <td>No internet service</td>\n",
              "      <td>No internet service</td>\n",
              "      <td>No internet service</td>\n",
              "      <td>Two year</td>\n",
              "      <td>No</td>\n",
              "      <td>Mailed check</td>\n",
              "      <td>19.85</td>\n",
              "      <td>0.0</td>\n",
              "      <td>No</td>\n",
              "    </tr>\n",
              "    <tr>\n",
              "      <th>4326</th>\n",
              "      <td>Female</td>\n",
              "      <td>No</td>\n",
              "      <td>Yes</td>\n",
              "      <td>Yes</td>\n",
              "      <td>0</td>\n",
              "      <td>Yes</td>\n",
              "      <td>No</td>\n",
              "      <td>DSL</td>\n",
              "      <td>Yes</td>\n",
              "      <td>Yes</td>\n",
              "      <td>Yes</td>\n",
              "      <td>No</td>\n",
              "      <td>Yes</td>\n",
              "      <td>Yes</td>\n",
              "      <td>Two year</td>\n",
              "      <td>No</td>\n",
              "      <td>Mailed check</td>\n",
              "      <td>80.85</td>\n",
              "      <td>0.0</td>\n",
              "      <td>No</td>\n",
              "    </tr>\n",
              "    <tr>\n",
              "      <th>5375</th>\n",
              "      <td>Male</td>\n",
              "      <td>No</td>\n",
              "      <td>No</td>\n",
              "      <td>Yes</td>\n",
              "      <td>0</td>\n",
              "      <td>Yes</td>\n",
              "      <td>No</td>\n",
              "      <td>No</td>\n",
              "      <td>No internet service</td>\n",
              "      <td>No internet service</td>\n",
              "      <td>No internet service</td>\n",
              "      <td>No internet service</td>\n",
              "      <td>No internet service</td>\n",
              "      <td>No internet service</td>\n",
              "      <td>Two year</td>\n",
              "      <td>No</td>\n",
              "      <td>Mailed check</td>\n",
              "      <td>20.25</td>\n",
              "      <td>0.0</td>\n",
              "      <td>No</td>\n",
              "    </tr>\n",
              "    <tr>\n",
              "      <th>5382</th>\n",
              "      <td>Female</td>\n",
              "      <td>No</td>\n",
              "      <td>Yes</td>\n",
              "      <td>Yes</td>\n",
              "      <td>0</td>\n",
              "      <td>Yes</td>\n",
              "      <td>No</td>\n",
              "      <td>No</td>\n",
              "      <td>No internet service</td>\n",
              "      <td>No internet service</td>\n",
              "      <td>No internet service</td>\n",
              "      <td>No internet service</td>\n",
              "      <td>No internet service</td>\n",
              "      <td>No internet service</td>\n",
              "      <td>Two year</td>\n",
              "      <td>No</td>\n",
              "      <td>Mailed check</td>\n",
              "      <td>20.00</td>\n",
              "      <td>0.0</td>\n",
              "      <td>No</td>\n",
              "    </tr>\n",
              "    <tr>\n",
              "      <th>5695</th>\n",
              "      <td>Female</td>\n",
              "      <td>No</td>\n",
              "      <td>Yes</td>\n",
              "      <td>Yes</td>\n",
              "      <td>0</td>\n",
              "      <td>No</td>\n",
              "      <td>No phone service</td>\n",
              "      <td>DSL</td>\n",
              "      <td>Yes</td>\n",
              "      <td>No</td>\n",
              "      <td>Yes</td>\n",
              "      <td>Yes</td>\n",
              "      <td>Yes</td>\n",
              "      <td>No</td>\n",
              "      <td>Two year</td>\n",
              "      <td>Yes</td>\n",
              "      <td>Bank transfer (automatic)</td>\n",
              "      <td>52.55</td>\n",
              "      <td>0.0</td>\n",
              "      <td>No</td>\n",
              "    </tr>\n",
              "    <tr>\n",
              "      <th>5951</th>\n",
              "      <td>Male</td>\n",
              "      <td>No</td>\n",
              "      <td>Yes</td>\n",
              "      <td>Yes</td>\n",
              "      <td>0</td>\n",
              "      <td>Yes</td>\n",
              "      <td>Yes</td>\n",
              "      <td>No</td>\n",
              "      <td>No internet service</td>\n",
              "      <td>No internet service</td>\n",
              "      <td>No internet service</td>\n",
              "      <td>No internet service</td>\n",
              "      <td>No internet service</td>\n",
              "      <td>No internet service</td>\n",
              "      <td>Two year</td>\n",
              "      <td>No</td>\n",
              "      <td>Mailed check</td>\n",
              "      <td>25.75</td>\n",
              "      <td>0.0</td>\n",
              "      <td>No</td>\n",
              "    </tr>\n",
              "  </tbody>\n",
              "</table>\n",
              "</div>"
            ],
            "text/plain": [
              "      gender SeniorCitizen Partner Dependents  tenure PhoneService  \\\n",
              "356     Male            No      No        Yes       0          Yes   \n",
              "634   Female            No     Yes        Yes       0           No   \n",
              "2771    Male            No     Yes        Yes       0          Yes   \n",
              "3086    Male            No     Yes        Yes       0          Yes   \n",
              "3255    Male            No     Yes        Yes       0          Yes   \n",
              "4326  Female            No     Yes        Yes       0          Yes   \n",
              "5375    Male            No      No        Yes       0          Yes   \n",
              "5382  Female            No     Yes        Yes       0          Yes   \n",
              "5695  Female            No     Yes        Yes       0           No   \n",
              "5951    Male            No     Yes        Yes       0          Yes   \n",
              "\n",
              "         MultipleLines InternetService       OnlineSecurity  \\\n",
              "356                Yes             DSL                  Yes   \n",
              "634   No phone service             DSL                  Yes   \n",
              "2771               Yes              No  No internet service   \n",
              "3086                No              No  No internet service   \n",
              "3255                No              No  No internet service   \n",
              "4326                No             DSL                  Yes   \n",
              "5375                No              No  No internet service   \n",
              "5382                No              No  No internet service   \n",
              "5695  No phone service             DSL                  Yes   \n",
              "5951               Yes              No  No internet service   \n",
              "\n",
              "             OnlineBackup     DeviceProtection          TechSupport  \\\n",
              "356                   Yes                   No                  Yes   \n",
              "634                   Yes                  Yes                  Yes   \n",
              "2771  No internet service  No internet service  No internet service   \n",
              "3086  No internet service  No internet service  No internet service   \n",
              "3255  No internet service  No internet service  No internet service   \n",
              "4326                  Yes                  Yes                   No   \n",
              "5375  No internet service  No internet service  No internet service   \n",
              "5382  No internet service  No internet service  No internet service   \n",
              "5695                   No                  Yes                  Yes   \n",
              "5951  No internet service  No internet service  No internet service   \n",
              "\n",
              "              StreamingTV      StreamingMovies  Contract PaperlessBilling  \\\n",
              "356                    No                   No  Two year              Yes   \n",
              "634                   Yes                   No  Two year               No   \n",
              "2771  No internet service  No internet service  Two year               No   \n",
              "3086  No internet service  No internet service  One year              Yes   \n",
              "3255  No internet service  No internet service  Two year               No   \n",
              "4326                  Yes                  Yes  Two year               No   \n",
              "5375  No internet service  No internet service  Two year               No   \n",
              "5382  No internet service  No internet service  Two year               No   \n",
              "5695                  Yes                   No  Two year              Yes   \n",
              "5951  No internet service  No internet service  Two year               No   \n",
              "\n",
              "                  PaymentMethod  MonthlyCharges  TotalCharges Churn  \n",
              "356   Bank transfer (automatic)           61.90           0.0    No  \n",
              "634     Credit card (automatic)           56.05           0.0    No  \n",
              "2771               Mailed check           25.35           0.0    No  \n",
              "3086               Mailed check           19.70           0.0    No  \n",
              "3255               Mailed check           19.85           0.0    No  \n",
              "4326               Mailed check           80.85           0.0    No  \n",
              "5375               Mailed check           20.25           0.0    No  \n",
              "5382               Mailed check           20.00           0.0    No  \n",
              "5695  Bank transfer (automatic)           52.55           0.0    No  \n",
              "5951               Mailed check           25.75           0.0    No  "
            ]
          },
          "execution_count": 18,
          "metadata": {},
          "output_type": "execute_result"
        }
      ],
      "source": [
        "users[users['TotalCharges']==0]"
      ]
    },
    {
      "cell_type": "markdown",
      "id": "40befe80",
      "metadata": {
        "id": "40befe80"
      },
      "source": [
        "## Missing values have been replaced with 0."
      ]
    },
    {
      "cell_type": "markdown",
      "id": "a344afa8",
      "metadata": {
        "id": "a344afa8"
      },
      "source": [
        "## Unique values of the columns"
      ]
    },
    {
      "cell_type": "code",
      "execution_count": null,
      "id": "87f74174",
      "metadata": {
        "id": "87f74174",
        "outputId": "cae22f56-be46-4655-ec1c-6ea3f0d143ae"
      },
      "outputs": [
        {
          "name": "stdout",
          "output_type": "stream",
          "text": [
            "gender ['Male' 'Female']\n",
            "SeniorCitizen ['No' 'Yes']\n",
            "Partner ['Yes' 'No']\n",
            "Dependents ['Yes' 'No']\n",
            "PhoneService ['Yes' 'No']\n",
            "MultipleLines ['Yes' 'No' 'No phone service']\n",
            "InternetService ['No' 'Fiber optic' 'DSL']\n",
            "OnlineSecurity ['No internet service' 'No' 'Yes']\n",
            "OnlineBackup ['No internet service' 'Yes' 'No']\n",
            "DeviceProtection ['No internet service' 'Yes' 'No']\n",
            "TechSupport ['No internet service' 'No' 'Yes']\n",
            "StreamingTV ['No internet service' 'Yes' 'No']\n",
            "StreamingMovies ['No internet service' 'No' 'Yes']\n",
            "Contract ['Two year' 'Month-to-month' 'One year']\n",
            "PaperlessBilling ['No' 'Yes']\n",
            "PaymentMethod ['Credit card (automatic)' 'Bank transfer (automatic)' 'Electronic check'\n",
            " 'Mailed check']\n",
            "Churn ['No' 'Yes']\n"
          ]
        }
      ],
      "source": [
        "column_names = ['gender','SeniorCitizen','Partner','Dependents','PhoneService','MultipleLines','InternetService','OnlineSecurity','OnlineBackup','DeviceProtection','TechSupport','StreamingTV','StreamingMovies','Contract','PaperlessBilling','PaymentMethod','Churn']\n",
        "for col in column_names :\n",
        "    print(col,users[col].unique())"
      ]
    },
    {
      "cell_type": "markdown",
      "id": "95ce01dd",
      "metadata": {
        "id": "95ce01dd"
      },
      "source": [
        "# Disturbution analysis"
      ]
    },
    {
      "cell_type": "markdown",
      "id": "d36b6b94",
      "metadata": {
        "id": "d36b6b94"
      },
      "source": [
        "## Churn count"
      ]
    },
    {
      "cell_type": "code",
      "execution_count": null,
      "id": "23d8da7d",
      "metadata": {
        "id": "23d8da7d",
        "outputId": "c0704252-3a20-4670-8bd0-0937dec0fdbf"
      },
      "outputs": [
        {
          "data": {
            "image/png": "[encoded data removed]",
            "text/plain": [
              "<Figure size 432x288 with 1 Axes>"
            ]
          },
          "metadata": {
            "needs_background": "light"
          },
          "output_type": "display_data"
        }
      ],
      "source": [
        "plt.bar(users['Churn'].unique(), users['Churn'].value_counts(), color=[(0.275191, 0.194905, 0.496005),(0.626579, 0.854645, 0.223353)])\n",
        "plt.title('Count of users who left in the churn\\n', fontsize=18)\n",
        "plt.show()"
      ]
    },
    {
      "cell_type": "markdown",
      "id": "7686e2c6",
      "metadata": {
        "id": "7686e2c6"
      },
      "source": [
        "## Disturbution of numerical data"
      ]
    },
    {
      "cell_type": "code",
      "execution_count": null,
      "id": "7d90e0e7",
      "metadata": {
        "id": "7d90e0e7",
        "outputId": "dd811f7b-097c-48fa-a503-b5e900a77a87"
      },
      "outputs": [
        {
          "data": {
            "image/png": "[encoded data removed]",
            "text/plain": [
              "<Figure size 1296x360 with 3 Axes>"
            ]
          },
          "metadata": {
            "needs_background": "light"
          },
          "output_type": "display_data"
        }
      ],
      "source": [
        "numerical_columns = ['tenure', 'MonthlyCharges', 'TotalCharges']\n",
        "fig, axes = plt.subplots(1,3,figsize=(18,5), sharey=True)\n",
        "axes = axes.ravel()\n",
        "#ravel() returns a 1-D array containing the elements of the input\n",
        "\n",
        "\n",
        "for ax, x in zip(axes, numerical_columns):#zip() takes in iterables as arguments and returns an iterator.\n",
        "    ax.hist(users[x],  bins=50, color=['#843b62'])\n",
        "    ax.set_title(x, fontsize=14)\n",
        "\n",
        "\n",
        "fig.suptitle('Customers disturbution by numerical data', fontsize=18)\n",
        "plt.show()"
      ]
    },
    {
      "cell_type": "code",
      "execution_count": null,
      "id": "a1533f74",
      "metadata": {
        "id": "a1533f74",
        "outputId": "2442a9c1-4192-4000-9a9e-8dd5a5fe534f"
      },
      "outputs": [
        {
          "data": {
            "text/plain": [
              "tenure            0.230418\n",
              "MonthlyCharges   -0.221472\n",
              "TotalCharges      0.948410\n",
              "dtype: float64"
            ]
          },
          "execution_count": 22,
          "metadata": {},
          "output_type": "execute_result"
        }
      ],
      "source": [
        "users.skew()"
      ]
    },
    {
      "cell_type": "markdown",
      "id": "8f9448ab",
      "metadata": {
        "id": "8f9448ab"
      },
      "source": [
        "### 'tenure' and  'MonthlyCharges' ' plots are fairly symmetrical while TotalCharges' 's plot is moderately right skewed"
      ]
    },
    {
      "cell_type": "code",
      "execution_count": null,
      "id": "990d84af",
      "metadata": {
        "id": "990d84af"
      },
      "outputs": [],
      "source": [
        "users.TotalCharges = np.sqrt(users['TotalCharges'])\n"
      ]
    },
    {
      "cell_type": "code",
      "execution_count": null,
      "id": "d2ac8674",
      "metadata": {
        "id": "d2ac8674",
        "outputId": "12a8af57-4058-4c56-9478-7b2e18d617e3"
      },
      "outputs": [
        {
          "data": {
            "text/plain": [
              "0     41.649130\n",
              "1     63.033325\n",
              "2     53.570981\n",
              "3     15.443445\n",
              "4     10.931606\n",
              "5     58.053424\n",
              "6     54.677235\n",
              "7      4.989990\n",
              "8     36.182178\n",
              "9     79.890863\n",
              "10    59.015676\n",
              "11    39.515820\n",
              "12    77.575125\n",
              "13    51.128270\n",
              "14    60.066630\n",
              "Name: TotalCharges, dtype: float64"
            ]
          },
          "execution_count": 24,
          "metadata": {},
          "output_type": "execute_result"
        }
      ],
      "source": [
        "users['TotalCharges'].head(15)"
      ]
    },
    {
      "cell_type": "code",
      "execution_count": null,
      "id": "f23bb78c",
      "metadata": {
        "id": "f23bb78c",
        "outputId": "02014f2b-0248-4f3e-9ca7-26cb55befd41"
      },
      "outputs": [
        {
          "data": {
            "text/plain": [
              "tenure            0.230418\n",
              "MonthlyCharges   -0.221472\n",
              "TotalCharges      0.299830\n",
              "dtype: float64"
            ]
          },
          "execution_count": 25,
          "metadata": {},
          "output_type": "execute_result"
        }
      ],
      "source": [
        "users.skew()"
      ]
    },
    {
      "cell_type": "code",
      "execution_count": null,
      "id": "0c229731",
      "metadata": {
        "id": "0c229731",
        "outputId": "0a491e70-7396-4b71-b1c8-50ee8c074963"
      },
      "outputs": [
        {
          "data": {
            "text/plain": [
              "<AxesSubplot:ylabel='TotalCharges'>"
            ]
          },
          "execution_count": 26,
          "metadata": {},
          "output_type": "execute_result"
        },
        {
          "data": {
            "image/png": "[encoded data removed]",
            "text/plain": [
              "<Figure size 432x288 with 1 Axes>"
            ]
          },
          "metadata": {
            "needs_background": "light"
          },
          "output_type": "display_data"
        }
      ],
      "source": [
        "sns.boxplot(y=users['TotalCharges'])\n"
      ]
    },
    {
      "cell_type": "code",
      "execution_count": null,
      "id": "55c2684d",
      "metadata": {
        "id": "55c2684d",
        "outputId": "79cc60c5-923c-48c4-f0e9-5d3b96fa3a22"
      },
      "outputs": [
        {
          "data": {
            "text/plain": [
              "(0.288921, 0.758394, 0.428426)"
            ]
          },
          "execution_count": 27,
          "metadata": {},
          "output_type": "execute_result"
        }
      ],
      "source": [
        "s=sns.color_palette('viridis')\n",
        "s[4]"
      ]
    },
    {
      "cell_type": "markdown",
      "id": "61d62eda",
      "metadata": {
        "id": "61d62eda"
      },
      "source": [
        "## Demographic churn dirturbution"
      ]
    },
    {
      "cell_type": "code",
      "execution_count": null,
      "id": "776ca6f1",
      "metadata": {
        "id": "776ca6f1",
        "outputId": "94850314-ff7c-4618-c04d-1b940156c384"
      },
      "outputs": [
        {
          "data": {
            "image/png": "[encoded data removed]",
            "text/plain": [
              "<Figure size 1152x792 with 4 Axes>"
            ]
          },
          "metadata": {
            "needs_background": "light"
          },
          "output_type": "display_data"
        }
      ],
      "source": [
        "demograph_columns = ['SeniorCitizen', 'Partner', 'gender', 'Dependents']\n",
        "fig, axes = plt.subplots(2,2,figsize=(16, 11), sharey=True)\n",
        "axes = axes.ravel()\n",
        "#ravel() returns a 1-D array containing the elements of the input\n",
        "\n",
        "\n",
        "for ax, x in zip(axes, demograph_columns):#zip() takes in iterables as arguments and returns an iterator.\n",
        "     ax.bar(users[x].unique(),users[x].value_counts(),color=[(0.275191, 0.194905, 0.496005),(0.626579, 0.854645, 0.223353)])\n",
        "     ax.set_title(x, fontsize=14)\n",
        "\n",
        "fig.suptitle('Churn disturbution by demography', fontsize=18)\n",
        "plt.show()"
      ]
    },
    {
      "cell_type": "code",
      "execution_count": null,
      "id": "684d4ea4",
      "metadata": {
        "id": "684d4ea4",
        "outputId": "bd1b3f14-af21-4bc7-cdb8-4d4dd9fe0615"
      },
      "outputs": [
        {
          "data": {
            "image/png": "[encoded data removed]",
            "text/plain": [
              "<Figure size 1080x792 with 9 Axes>"
            ]
          },
          "metadata": {},
          "output_type": "display_data"
        }
      ],
      "source": [
        "fig, axes = plt.subplots(3,3,figsize=(15, 11))\n",
        "services_columns = ['PhoneService', 'MultipleLines', 'InternetService', 'OnlineSecurity', 'OnlineBackup',\n",
        "            'DeviceProtection', 'TechSupport', 'StreamingTV', 'StreamingMovies']\n",
        "axes = axes.ravel()\n",
        "\n",
        "for ax, x in zip(axes.ravel(), services_columns):\n",
        "    ax.pie(users[x].value_counts(), labels=users[x].unique(),autopct='%1.1f%%',\n",
        "          colors=[(0.275191, 0.194905, 0.496005) ,(0.626579, 0.854645, 0.223353),(0.153364, 0.497, 0.557724)])\n",
        "    ax.set_title(x, fontsize=14)\n",
        "\n",
        "fig.suptitle('Distribution of the count of users from use the services', fontsize=18)\n",
        "plt.show()"
      ]
    },
    {
      "cell_type": "code",
      "execution_count": null,
      "id": "27351c9e",
      "metadata": {
        "id": "27351c9e",
        "outputId": "7247c293-f88e-4f56-fb10-b7cdbddf8aea"
      },
      "outputs": [
        {
          "data": {
            "image/png": "[encoded data removed]",
            "text/plain": [
              "<Figure size 1080x432 with 3 Axes>"
            ]
          },
          "metadata": {},
          "output_type": "display_data"
        }
      ],
      "source": [
        "fig, axes = plt.subplots(1,3,figsize=(15, 6))\n",
        "payment_columns = ['PaymentMethod', 'PaperlessBilling', 'Contract']\n",
        "axes = axes.ravel()\n",
        "\n",
        "for ax, x in zip(axes.ravel(), payment_columns):\n",
        "    ax.pie(users[x].value_counts(), labels=users[x].unique(),autopct='%1.1f%%',\n",
        "          colors=[(0.275191, 0.194905, 0.496005) ,(0.626579, 0.854645, 0.223353),(0.288921, 0.758394, 0.428426),(0.153364, 0.497, 0.557724)])\n",
        "    ax.set_title(x, fontsize=14)\\\n",
        "\n",
        "fig.suptitle('Users preferences in terms of payment', fontsize=18)\n",
        "plt.show()"
      ]
    },
    {
      "cell_type": "code",
      "execution_count": null,
      "id": "40a50016",
      "metadata": {
        "id": "40a50016",
        "outputId": "424b1392-e360-41ff-c3ba-afdb5a88a1b8"
      },
      "outputs": [
        {
          "data": {
            "image/png": "[encoded data removed]",
            "text/plain": [
              "<Figure size 1152x792 with 4 Axes>"
            ]
          },
          "metadata": {
            "needs_background": "light"
          },
          "output_type": "display_data"
        }
      ],
      "source": [
        "demograph_columns = ['SeniorCitizen', 'Partner', 'gender', 'Dependents']\n",
        "fig, axes = plt.subplots(2,2,figsize=(16, 11), sharey=True)\n",
        "axes = axes.ravel()\n",
        "#ravel() returns a 1-D array containing the elements of the input\n",
        "\n",
        "\n",
        "for ax, x in zip(axes, demograph_columns):#zip() takes in iterables as arguments and returns an iterator.\n",
        "    churn_users = users.groupby([x,'Churn']).size().unstack()\n",
        "    axi = (churn_users.T*100.0 / churn_users.T.sum()).T.plot(kind='bar',ax=ax,stacked = True, rot = 0,color=[(0.275191, 0.194905, 0.496005) ,(0.626579, 0.854645, 0.223353)])\n",
        "    ax.set_title(x, fontsize=14)\n",
        "\n",
        "fig.suptitle('Churn disturbution by demography', fontsize=18)\n",
        "plt.show()"
      ]
    },
    {
      "cell_type": "markdown",
      "id": "4edeedf6",
      "metadata": {
        "id": "4edeedf6"
      },
      "source": [
        "### Senior citizens, customers with no dependents and no partner churn out the most.\n",
        "### Customers of both genders have the same churn rate."
      ]
    },
    {
      "cell_type": "markdown",
      "id": "2f9321b8",
      "metadata": {
        "id": "2f9321b8"
      },
      "source": [
        "## Sevices Disturbution"
      ]
    },
    {
      "cell_type": "code",
      "execution_count": null,
      "id": "398e95df",
      "metadata": {
        "id": "398e95df",
        "outputId": "6e981100-9cc3-43a0-bf58-ae88df36f12f"
      },
      "outputs": [
        {
          "data": {
            "image/png": "[encoded data removed]",
            "text/plain": [
              "<Figure size 1080x1080 with 9 Axes>"
            ]
          },
          "metadata": {
            "needs_background": "light"
          },
          "output_type": "display_data"
        }
      ],
      "source": [
        "\n",
        "fig, axes = plt.subplots(3,3,figsize=(15, 15))\n",
        "\n",
        "axes = axes.ravel()\n",
        "\n",
        "for ax,x in zip(axes,services_columns):\n",
        "    churn_users = users.groupby([x,'Churn']).size().unstack()\n",
        "    axi = (churn_users.T*100.0 / churn_users.T.sum()).T.plot(kind='bar',ax=ax,stacked = True, rot = 0,color=[(0.275191, 0.194905, 0.496005) ,(0.626579, 0.854645, 0.223353)])\n",
        "    ax.set_title(x, fontsize=14)\n",
        "\n",
        "\n",
        "fig.suptitle('Churn distribution by service', fontsize=18)\n",
        "plt.show()"
      ]
    },
    {
      "cell_type": "markdown",
      "id": "2bc9c78c",
      "metadata": {
        "id": "2bc9c78c"
      },
      "source": [
        "### Customers with fiber optic option churn out the most.\n",
        "### Customers with no internet service chun out the least.\n",
        "### Customers with or without phone service have the same churn rate.\n",
        "### Customers with no services are more likely to churn."
      ]
    },
    {
      "cell_type": "markdown",
      "id": "697080db",
      "metadata": {
        "id": "697080db"
      },
      "source": [
        "## payment methods analysis"
      ]
    },
    {
      "cell_type": "code",
      "execution_count": null,
      "id": "52604a45",
      "metadata": {
        "id": "52604a45",
        "outputId": "9f7ae151-d21f-47e1-afe8-37b870378289"
      },
      "outputs": [
        {
          "data": {
            "image/png": "[encoded data removed]",
            "text/plain": [
              "<Figure size 1080x432 with 3 Axes>"
            ]
          },
          "metadata": {
            "needs_background": "light"
          },
          "output_type": "display_data"
        }
      ],
      "source": [
        "\n",
        "fig, axes = plt.subplots(1,3,figsize=(15, 6))\n",
        "\n",
        "axes = axes.ravel()\n",
        "\n",
        "for ax, x in zip(axes, payment_columns):\n",
        "\n",
        "    churn_users = users.groupby([x,'Churn']).size().unstack()\n",
        "    axi = (churn_users.T*100.0 / churn_users.T.sum()).T.plot(kind='bar',ax=ax,stacked = True, rot = 0,color=[(0.275191, 0.194905, 0.496005) ,(0.626579, 0.854645, 0.223353)])\n",
        "    ax.set_title(x, fontsize=14)\n",
        "    plt.setp(ax.xaxis.get_majorticklabels(), rotation=45)\n",
        "fig.suptitle('Churn disturbution by payment menthod', fontsize=18)\n",
        "\n",
        "plt.show()"
      ]
    },
    {
      "cell_type": "markdown",
      "id": "ef52170f",
      "metadata": {
        "id": "ef52170f"
      },
      "source": [
        "### Customers with month to moth contract, paperpless billing and electronic check payment method churn out more."
      ]
    },
    {
      "cell_type": "markdown",
      "id": "afab76c5",
      "metadata": {
        "id": "afab76c5"
      },
      "source": [
        "## Variables correlation to Churn"
      ]
    },
    {
      "cell_type": "code",
      "execution_count": null,
      "id": "abc87ed5",
      "metadata": {
        "id": "abc87ed5"
      },
      "outputs": [],
      "source": [
        "users['Churn'] = users['Churn'].replace({'Yes': 1, 'No': 0})"
      ]
    },
    {
      "cell_type": "code",
      "execution_count": null,
      "id": "1dc49c08",
      "metadata": {
        "id": "1dc49c08",
        "outputId": "13751597-4afc-42f7-ca85-7ccfa6d4a4fd"
      },
      "outputs": [
        {
          "data": {
            "text/plain": [
              "Index(['tenure', 'MonthlyCharges', 'TotalCharges', 'Churn', 'gender_Female',\n",
              "       'gender_Male', 'SeniorCitizen_No', 'SeniorCitizen_Yes', 'Partner_No',\n",
              "       'Partner_Yes', 'Dependents_No', 'Dependents_Yes', 'PhoneService_No',\n",
              "       'PhoneService_Yes', 'MultipleLines_No',\n",
              "       'MultipleLines_No phone service', 'MultipleLines_Yes',\n",
              "       'InternetService_DSL', 'InternetService_Fiber optic',\n",
              "       'InternetService_No', 'OnlineSecurity_No',\n",
              "       'OnlineSecurity_No internet service', 'OnlineSecurity_Yes',\n",
              "       'OnlineBackup_No', 'OnlineBackup_No internet service',\n",
              "       'OnlineBackup_Yes', 'DeviceProtection_No',\n",
              "       'DeviceProtection_No internet service', 'DeviceProtection_Yes',\n",
              "       'TechSupport_No', 'TechSupport_No internet service', 'TechSupport_Yes',\n",
              "       'StreamingTV_No', 'StreamingTV_No internet service', 'StreamingTV_Yes',\n",
              "       'StreamingMovies_No', 'StreamingMovies_No internet service',\n",
              "       'StreamingMovies_Yes', 'Contract_Month-to-month', 'Contract_One year',\n",
              "       'Contract_Two year', 'PaperlessBilling_No', 'PaperlessBilling_Yes',\n",
              "       'PaymentMethod_Bank transfer (automatic)',\n",
              "       'PaymentMethod_Credit card (automatic)',\n",
              "       'PaymentMethod_Electronic check', 'PaymentMethod_Mailed check'],\n",
              "      dtype='object')"
            ]
          },
          "execution_count": 35,
          "metadata": {},
          "output_type": "execute_result"
        }
      ],
      "source": [
        "users_dummies = pd.get_dummies(users)\n",
        "users_dummies.columns\n"
      ]
    },
    {
      "cell_type": "code",
      "execution_count": null,
      "id": "881b1c4a",
      "metadata": {
        "id": "881b1c4a",
        "outputId": "abeba31e-1769-410f-d428-1c3da0d0defe"
      },
      "outputs": [
        {
          "data": {
            "image/png": "[encoded data removed]",
            "text/plain": [
              "<Figure size 1080x576 with 1 Axes>"
            ]
          },
          "metadata": {
            "needs_background": "light"
          },
          "output_type": "display_data"
        }
      ],
      "source": [
        "plt.figure(figsize=(15,8))\n",
        "users_dummies.corr()['Churn'].sort_values(ascending = False).plot(kind='bar',color=['#b83253'])\n",
        "plt.title('Dummy variables correlation to Churn')\n",
        "plt.show()"
      ]
    },
    {
      "cell_type": "code",
      "execution_count": null,
      "id": "13afabf5",
      "metadata": {
        "id": "13afabf5",
        "outputId": "cd81935a-7fbb-4158-e5b8-bcca8d712963"
      },
      "outputs": [
        {
          "data": {
            "text/plain": [
              "Churn                                      1.000000\n",
              "Contract_Month-to-month                    0.403372\n",
              "OnlineSecurity_No                          0.341287\n",
              "TechSupport_No                             0.330522\n",
              "InternetService_Fiber optic                0.301155\n",
              "PaymentMethod_Electronic check             0.296528\n",
              "OnlineBackup_No                            0.264174\n",
              "DeviceProtection_No                        0.251354\n",
              "PaperlessBilling_Yes                       0.188595\n",
              "MonthlyCharges                             0.188022\n",
              "Dependents_No                              0.159265\n",
              "SeniorCitizen_Yes                          0.150777\n",
              "Partner_No                                 0.145265\n",
              "StreamingMovies_No                         0.127936\n",
              "StreamingTV_No                             0.126298\n",
              "StreamingTV_Yes                            0.062317\n",
              "StreamingMovies_Yes                        0.060819\n",
              "MultipleLines_Yes                          0.038357\n",
              "gender_Female                              0.009901\n",
              "PhoneService_Yes                           0.008722\n",
              "MultipleLines_No phone service            -0.008722\n",
              "PhoneService_No                           -0.008722\n",
              "gender_Male                               -0.009901\n",
              "MultipleLines_No                          -0.032781\n",
              "DeviceProtection_Yes                      -0.068640\n",
              "OnlineBackup_Yes                          -0.081309\n",
              "PaymentMethod_Mailed check                -0.091286\n",
              "PaymentMethod_Bank transfer (automatic)   -0.111612\n",
              "InternetService_DSL                       -0.120391\n",
              "PaymentMethod_Credit card (automatic)     -0.134466\n",
              "Partner_Yes                               -0.145265\n",
              "SeniorCitizen_No                          -0.150777\n",
              "Dependents_Yes                            -0.159265\n",
              "TechSupport_Yes                           -0.160915\n",
              "OnlineSecurity_Yes                        -0.173444\n",
              "Contract_One year                         -0.175219\n",
              "PaperlessBilling_No                       -0.188595\n",
              "TotalCharges                              -0.219837\n",
              "DeviceProtection_No internet service      -0.224498\n",
              "OnlineBackup_No internet service          -0.224498\n",
              "StreamingMovies_No internet service       -0.224498\n",
              "InternetService_No                        -0.224498\n",
              "StreamingTV_No internet service           -0.224498\n",
              "OnlineSecurity_No internet service        -0.224498\n",
              "TechSupport_No internet service           -0.224498\n",
              "Contract_Two year                         -0.301558\n",
              "tenure                                    -0.347298\n",
              "Name: Churn, dtype: float64"
            ]
          },
          "execution_count": 37,
          "metadata": {},
          "output_type": "execute_result"
        }
      ],
      "source": [
        "users_dummies.corr()['Churn'].sort_values(ascending = False)"
      ]
    },
    {
      "cell_type": "markdown",
      "id": "c7b48d1a",
      "metadata": {
        "id": "c7b48d1a"
      },
      "source": [
        "Month to month contracts, absence of online security and tech support seem to be the most correlated with churn.\n",
        "\n",
        "Tenure, two year contracts seem to be the least correlated with churn.\n",
        "\n",
        "Online security, streaming TV, online backup, tech support services... without internet connection also seem to be not related to churn; no internet service in general is not correlated to costumers' churn."
      ]
    },
    {
      "cell_type": "markdown",
      "id": "43fd156b",
      "metadata": {
        "id": "43fd156b"
      },
      "source": [
        "## Splitting the dataset into input/data and output/target values"
      ]
    },
    {
      "cell_type": "code",
      "execution_count": null,
      "id": "da1116a6",
      "metadata": {
        "id": "da1116a6"
      },
      "outputs": [],
      "source": [
        "\n",
        "y = users.Churn.values"
      ]
    },
    {
      "cell_type": "markdown",
      "id": "6ff248d7",
      "metadata": {
        "id": "6ff248d7"
      },
      "source": [
        "### Splitting data to train, test and validation sets"
      ]
    },
    {
      "cell_type": "code",
      "execution_count": null,
      "id": "90386f93",
      "metadata": {
        "id": "90386f93",
        "outputId": "ee037bc3-eb8b-4afb-f722-14388fb8a00c"
      },
      "outputs": [
        {
          "data": {
            "text/html": [
              "<div>\n",
              "<style scoped>\n",
              "    .dataframe tbody tr th:only-of-type {\n",
              "        vertical-align: middle;\n",
              "    }\n",
              "\n",
              "    .dataframe tbody tr th {\n",
              "        vertical-align: top;\n",
              "    }\n",
              "\n",
              "    .dataframe thead th {\n",
              "        text-align: right;\n",
              "    }\n",
              "</style>\n",
              "<table border=\"1\" class=\"dataframe\">\n",
              "  <thead>\n",
              "    <tr style=\"text-align: right;\">\n",
              "      <th></th>\n",
              "      <th>gender</th>\n",
              "      <th>SeniorCitizen</th>\n",
              "      <th>Partner</th>\n",
              "      <th>Dependents</th>\n",
              "      <th>tenure</th>\n",
              "      <th>MultipleLines</th>\n",
              "      <th>InternetService</th>\n",
              "      <th>OnlineSecurity</th>\n",
              "      <th>OnlineBackup</th>\n",
              "      <th>DeviceProtection</th>\n",
              "      <th>TechSupport</th>\n",
              "      <th>StreamingTV</th>\n",
              "      <th>StreamingMovies</th>\n",
              "      <th>Contract</th>\n",
              "      <th>PaperlessBilling</th>\n",
              "      <th>PaymentMethod</th>\n",
              "      <th>MonthlyCharges</th>\n",
              "      <th>TotalCharges</th>\n",
              "    </tr>\n",
              "  </thead>\n",
              "  <tbody>\n",
              "    <tr>\n",
              "      <th>1045</th>\n",
              "      <td>Female</td>\n",
              "      <td>No</td>\n",
              "      <td>Yes</td>\n",
              "      <td>Yes</td>\n",
              "      <td>2</td>\n",
              "      <td>No phone service</td>\n",
              "      <td>DSL</td>\n",
              "      <td>No</td>\n",
              "      <td>Yes</td>\n",
              "      <td>No</td>\n",
              "      <td>No</td>\n",
              "      <td>No</td>\n",
              "      <td>No</td>\n",
              "      <td>Month-to-month</td>\n",
              "      <td>Yes</td>\n",
              "      <td>Mailed check</td>\n",
              "      <td>30.25</td>\n",
              "      <td>7.984360</td>\n",
              "    </tr>\n",
              "    <tr>\n",
              "      <th>333</th>\n",
              "      <td>Male</td>\n",
              "      <td>No</td>\n",
              "      <td>No</td>\n",
              "      <td>No</td>\n",
              "      <td>65</td>\n",
              "      <td>Yes</td>\n",
              "      <td>No</td>\n",
              "      <td>No internet service</td>\n",
              "      <td>No internet service</td>\n",
              "      <td>No internet service</td>\n",
              "      <td>No internet service</td>\n",
              "      <td>No internet service</td>\n",
              "      <td>No internet service</td>\n",
              "      <td>Two year</td>\n",
              "      <td>No</td>\n",
              "      <td>Mailed check</td>\n",
              "      <td>25.75</td>\n",
              "      <td>40.678618</td>\n",
              "    </tr>\n",
              "    <tr>\n",
              "      <th>4836</th>\n",
              "      <td>Female</td>\n",
              "      <td>No</td>\n",
              "      <td>No</td>\n",
              "      <td>No</td>\n",
              "      <td>6</td>\n",
              "      <td>No phone service</td>\n",
              "      <td>DSL</td>\n",
              "      <td>Yes</td>\n",
              "      <td>Yes</td>\n",
              "      <td>Yes</td>\n",
              "      <td>Yes</td>\n",
              "      <td>Yes</td>\n",
              "      <td>Yes</td>\n",
              "      <td>Two year</td>\n",
              "      <td>Yes</td>\n",
              "      <td>Mailed check</td>\n",
              "      <td>63.40</td>\n",
              "      <td>18.676188</td>\n",
              "    </tr>\n",
              "    <tr>\n",
              "      <th>4992</th>\n",
              "      <td>Male</td>\n",
              "      <td>Yes</td>\n",
              "      <td>Yes</td>\n",
              "      <td>No</td>\n",
              "      <td>34</td>\n",
              "      <td>No</td>\n",
              "      <td>Fiber optic</td>\n",
              "      <td>No</td>\n",
              "      <td>No</td>\n",
              "      <td>No</td>\n",
              "      <td>No</td>\n",
              "      <td>No</td>\n",
              "      <td>No</td>\n",
              "      <td>Month-to-month</td>\n",
              "      <td>No</td>\n",
              "      <td>Credit card (automatic)</td>\n",
              "      <td>71.55</td>\n",
              "      <td>49.268144</td>\n",
              "    </tr>\n",
              "    <tr>\n",
              "      <th>1352</th>\n",
              "      <td>Male</td>\n",
              "      <td>No</td>\n",
              "      <td>No</td>\n",
              "      <td>No</td>\n",
              "      <td>1</td>\n",
              "      <td>No</td>\n",
              "      <td>No</td>\n",
              "      <td>No internet service</td>\n",
              "      <td>No internet service</td>\n",
              "      <td>No internet service</td>\n",
              "      <td>No internet service</td>\n",
              "      <td>No internet service</td>\n",
              "      <td>No internet service</td>\n",
              "      <td>Month-to-month</td>\n",
              "      <td>No</td>\n",
              "      <td>Credit card (automatic)</td>\n",
              "      <td>19.30</td>\n",
              "      <td>4.393177</td>\n",
              "    </tr>\n",
              "    <tr>\n",
              "      <th>...</th>\n",
              "      <td>...</td>\n",
              "      <td>...</td>\n",
              "      <td>...</td>\n",
              "      <td>...</td>\n",
              "      <td>...</td>\n",
              "      <td>...</td>\n",
              "      <td>...</td>\n",
              "      <td>...</td>\n",
              "      <td>...</td>\n",
              "      <td>...</td>\n",
              "      <td>...</td>\n",
              "      <td>...</td>\n",
              "      <td>...</td>\n",
              "      <td>...</td>\n",
              "      <td>...</td>\n",
              "      <td>...</td>\n",
              "      <td>...</td>\n",
              "      <td>...</td>\n",
              "    </tr>\n",
              "    <tr>\n",
              "      <th>504</th>\n",
              "      <td>Female</td>\n",
              "      <td>Yes</td>\n",
              "      <td>No</td>\n",
              "      <td>No</td>\n",
              "      <td>28</td>\n",
              "      <td>Yes</td>\n",
              "      <td>DSL</td>\n",
              "      <td>No</td>\n",
              "      <td>Yes</td>\n",
              "      <td>Yes</td>\n",
              "      <td>Yes</td>\n",
              "      <td>No</td>\n",
              "      <td>No</td>\n",
              "      <td>Month-to-month</td>\n",
              "      <td>No</td>\n",
              "      <td>Bank transfer (automatic)</td>\n",
              "      <td>64.45</td>\n",
              "      <td>43.215738</td>\n",
              "    </tr>\n",
              "    <tr>\n",
              "      <th>2607</th>\n",
              "      <td>Male</td>\n",
              "      <td>No</td>\n",
              "      <td>No</td>\n",
              "      <td>No</td>\n",
              "      <td>31</td>\n",
              "      <td>Yes</td>\n",
              "      <td>Fiber optic</td>\n",
              "      <td>No</td>\n",
              "      <td>No</td>\n",
              "      <td>No</td>\n",
              "      <td>Yes</td>\n",
              "      <td>No</td>\n",
              "      <td>No</td>\n",
              "      <td>One year</td>\n",
              "      <td>No</td>\n",
              "      <td>Credit card (automatic)</td>\n",
              "      <td>81.70</td>\n",
              "      <td>50.484156</td>\n",
              "    </tr>\n",
              "    <tr>\n",
              "      <th>2712</th>\n",
              "      <td>Male</td>\n",
              "      <td>No</td>\n",
              "      <td>Yes</td>\n",
              "      <td>No</td>\n",
              "      <td>16</td>\n",
              "      <td>No</td>\n",
              "      <td>Fiber optic</td>\n",
              "      <td>Yes</td>\n",
              "      <td>Yes</td>\n",
              "      <td>No</td>\n",
              "      <td>No</td>\n",
              "      <td>No</td>\n",
              "      <td>No</td>\n",
              "      <td>Month-to-month</td>\n",
              "      <td>No</td>\n",
              "      <td>Bank transfer (automatic)</td>\n",
              "      <td>80.75</td>\n",
              "      <td>36.349691</td>\n",
              "    </tr>\n",
              "    <tr>\n",
              "      <th>4500</th>\n",
              "      <td>Male</td>\n",
              "      <td>No</td>\n",
              "      <td>No</td>\n",
              "      <td>No</td>\n",
              "      <td>20</td>\n",
              "      <td>No</td>\n",
              "      <td>DSL</td>\n",
              "      <td>No</td>\n",
              "      <td>Yes</td>\n",
              "      <td>No</td>\n",
              "      <td>No</td>\n",
              "      <td>No</td>\n",
              "      <td>No</td>\n",
              "      <td>Month-to-month</td>\n",
              "      <td>Yes</td>\n",
              "      <td>Mailed check</td>\n",
              "      <td>51.80</td>\n",
              "      <td>31.997656</td>\n",
              "    </tr>\n",
              "    <tr>\n",
              "      <th>2667</th>\n",
              "      <td>Female</td>\n",
              "      <td>No</td>\n",
              "      <td>No</td>\n",
              "      <td>Yes</td>\n",
              "      <td>2</td>\n",
              "      <td>No</td>\n",
              "      <td>DSL</td>\n",
              "      <td>Yes</td>\n",
              "      <td>No</td>\n",
              "      <td>No</td>\n",
              "      <td>No</td>\n",
              "      <td>No</td>\n",
              "      <td>Yes</td>\n",
              "      <td>Month-to-month</td>\n",
              "      <td>Yes</td>\n",
              "      <td>Credit card (automatic)</td>\n",
              "      <td>61.20</td>\n",
              "      <td>11.222745</td>\n",
              "    </tr>\n",
              "  </tbody>\n",
              "</table>\n",
              "<p>1198 rows × 18 columns</p>\n",
              "</div>"
            ],
            "text/plain": [
              "      gender SeniorCitizen Partner Dependents  tenure     MultipleLines  \\\n",
              "1045  Female            No     Yes        Yes       2  No phone service   \n",
              "333     Male            No      No         No      65               Yes   \n",
              "4836  Female            No      No         No       6  No phone service   \n",
              "4992    Male           Yes     Yes         No      34                No   \n",
              "1352    Male            No      No         No       1                No   \n",
              "...      ...           ...     ...        ...     ...               ...   \n",
              "504   Female           Yes      No         No      28               Yes   \n",
              "2607    Male            No      No         No      31               Yes   \n",
              "2712    Male            No     Yes         No      16                No   \n",
              "4500    Male            No      No         No      20                No   \n",
              "2667  Female            No      No        Yes       2                No   \n",
              "\n",
              "     InternetService       OnlineSecurity         OnlineBackup  \\\n",
              "1045             DSL                   No                  Yes   \n",
              "333               No  No internet service  No internet service   \n",
              "4836             DSL                  Yes                  Yes   \n",
              "4992     Fiber optic                   No                   No   \n",
              "1352              No  No internet service  No internet service   \n",
              "...              ...                  ...                  ...   \n",
              "504              DSL                   No                  Yes   \n",
              "2607     Fiber optic                   No                   No   \n",
              "2712     Fiber optic                  Yes                  Yes   \n",
              "4500             DSL                   No                  Yes   \n",
              "2667             DSL                  Yes                   No   \n",
              "\n",
              "         DeviceProtection          TechSupport          StreamingTV  \\\n",
              "1045                   No                   No                   No   \n",
              "333   No internet service  No internet service  No internet service   \n",
              "4836                  Yes                  Yes                  Yes   \n",
              "4992                   No                   No                   No   \n",
              "1352  No internet service  No internet service  No internet service   \n",
              "...                   ...                  ...                  ...   \n",
              "504                   Yes                  Yes                   No   \n",
              "2607                   No                  Yes                   No   \n",
              "2712                   No                   No                   No   \n",
              "4500                   No                   No                   No   \n",
              "2667                   No                   No                   No   \n",
              "\n",
              "          StreamingMovies        Contract PaperlessBilling  \\\n",
              "1045                   No  Month-to-month              Yes   \n",
              "333   No internet service        Two year               No   \n",
              "4836                  Yes        Two year              Yes   \n",
              "4992                   No  Month-to-month               No   \n",
              "1352  No internet service  Month-to-month               No   \n",
              "...                   ...             ...              ...   \n",
              "504                    No  Month-to-month               No   \n",
              "2607                   No        One year               No   \n",
              "2712                   No  Month-to-month               No   \n",
              "4500                   No  Month-to-month              Yes   \n",
              "2667                  Yes  Month-to-month              Yes   \n",
              "\n",
              "                  PaymentMethod  MonthlyCharges  TotalCharges  \n",
              "1045               Mailed check           30.25      7.984360  \n",
              "333                Mailed check           25.75     40.678618  \n",
              "4836               Mailed check           63.40     18.676188  \n",
              "4992    Credit card (automatic)           71.55     49.268144  \n",
              "1352    Credit card (automatic)           19.30      4.393177  \n",
              "...                         ...             ...           ...  \n",
              "504   Bank transfer (automatic)           64.45     43.215738  \n",
              "2607    Credit card (automatic)           81.70     50.484156  \n",
              "2712  Bank transfer (automatic)           80.75     36.349691  \n",
              "4500               Mailed check           51.80     31.997656  \n",
              "2667    Credit card (automatic)           61.20     11.222745  \n",
              "\n",
              "[1198 rows x 18 columns]"
            ]
          },
          "execution_count": 10,
          "metadata": {},
          "output_type": "execute_result"
        }
      ],
      "source": [
        "from sklearn.model_selection import train_test_split\n",
        "\n",
        "\n",
        "x_train, x_test, y_train, y_test = train_test_split(x, y, test_size=0.2, random_state=103,  shuffle=True, stratify=y)\n",
        "a=x_test\n",
        "b=y_test\n",
        "\n",
        "x_test"
      ]
    },
    {
      "cell_type": "markdown",
      "id": "8a1877cb",
      "metadata": {
        "id": "8a1877cb"
      },
      "source": [
        "## Data encoding after splitting to avoid data leakage"
      ]
    },
    {
      "cell_type": "code",
      "execution_count": null,
      "id": "2e64a4cf",
      "metadata": {
        "id": "2e64a4cf"
      },
      "outputs": [],
      "source": [
        "from sklearn.preprocessing import LabelEncoder\n",
        "from sklearn.preprocessing import OneHotEncoder"
      ]
    },
    {
      "cell_type": "code",
      "execution_count": null,
      "id": "b28280a2",
      "metadata": {
        "id": "b28280a2"
      },
      "outputs": [],
      "source": [
        "label_encoder = LabelEncoder()\n",
        "label_encoder.fit(y_train)\n",
        "y_train = label_encoder.transform(y_train)\n",
        "y_test = label_encoder.transform(y_test)"
      ]
    },
    {
      "cell_type": "code",
      "execution_count": null,
      "id": "10feb352",
      "metadata": {
        "id": "10feb352",
        "outputId": "e316e566-63fa-4601-d059-d3ad45eb838b"
      },
      "outputs": [
        {
          "name": "stdout",
          "output_type": "stream",
          "text": [
            "Requirement already satisfied: category_encoders in c:\\users\\pc\\documents\\anaconda3\\lib\\site-packages (2.3.0)\n",
            "Requirement already satisfied: pandas>=0.21.1 in c:\\users\\pc\\documents\\anaconda3\\lib\\site-packages (from category_encoders) (1.2.4)\n",
            "Requirement already satisfied: patsy>=0.5.1 in c:\\users\\pc\\documents\\anaconda3\\lib\\site-packages (from category_encoders) (0.5.1)\n",
            "Requirement already satisfied: statsmodels>=0.9.0 in c:\\users\\pc\\documents\\anaconda3\\lib\\site-packages (from category_encoders) (0.12.2)\n",
            "Requirement already satisfied: numpy>=1.14.0 in c:\\users\\pc\\documents\\anaconda3\\lib\\site-packages (from category_encoders) (1.20.1)\n",
            "Requirement already satisfied: scipy>=1.0.0 in c:\\users\\pc\\documents\\anaconda3\\lib\\site-packages (from category_encoders) (1.6.2)\n",
            "Requirement already satisfied: scikit-learn>=0.20.0 in c:\\users\\pc\\documents\\anaconda3\\lib\\site-packages (from category_encoders) (0.24.1)\n",
            "Requirement already satisfied: python-dateutil>=2.7.3 in c:\\users\\pc\\documents\\anaconda3\\lib\\site-packages (from pandas>=0.21.1->category_encoders) (2.8.1)\n",
            "Requirement already satisfied: pytz>=2017.3 in c:\\users\\pc\\documents\\anaconda3\\lib\\site-packages (from pandas>=0.21.1->category_encoders) (2021.1)\n",
            "Requirement already satisfied: six in c:\\users\\pc\\documents\\anaconda3\\lib\\site-packages (from patsy>=0.5.1->category_encoders) (1.15.0)\n",
            "Requirement already satisfied: joblib>=0.11 in c:\\users\\pc\\documents\\anaconda3\\lib\\site-packages (from scikit-learn>=0.20.0->category_encoders) (1.0.1)\n",
            "Requirement already satisfied: threadpoolctl>=2.0.0 in c:\\users\\pc\\documents\\anaconda3\\lib\\site-packages (from scikit-learn>=0.20.0->category_encoders) (2.1.0)\n"
          ]
        }
      ],
      "source": [
        "!pip install category_encoders"
      ]
    },
    {
      "cell_type": "code",
      "execution_count": null,
      "id": "d7dff082",
      "metadata": {
        "id": "d7dff082"
      },
      "outputs": [],
      "source": [
        "import category_encoders as ce\n",
        "c= ['MultipleLines','InternetService', 'OnlineSecurity', 'OnlineBackup', 'DeviceProtection', 'TechSupport', 'StreamingTV','StreamingMovies', 'Contract', 'PaymentMethod']\n",
        "encoder=ce.OneHotEncoder(cols=c,handle_unknown='ignore',return_df=True,use_cat_names=True)"
      ]
    },
    {
      "cell_type": "code",
      "execution_count": null,
      "id": "45b6ff77",
      "metadata": {
        "id": "45b6ff77"
      },
      "outputs": [],
      "source": [
        "for col in c :\n",
        "    train_data_encoded = encoder.fit_transform(x_train)\n",
        "    test_data_encoded = encoder.transform(x_test)"
      ]
    },
    {
      "cell_type": "code",
      "execution_count": null,
      "id": "45f2d7c1",
      "metadata": {
        "id": "45f2d7c1"
      },
      "outputs": [],
      "source": [
        "x_train=train_data_encoded\n",
        "x_test=test_data_encoded"
      ]
    },
    {
      "cell_type": "code",
      "execution_count": null,
      "id": "7093dd0f",
      "metadata": {
        "id": "7093dd0f"
      },
      "outputs": [],
      "source": [
        "cols=['SeniorCitizen', 'Partner', 'Dependents','PaperlessBilling']"
      ]
    },
    {
      "cell_type": "code",
      "execution_count": null,
      "id": "9f261044",
      "metadata": {
        "id": "9f261044"
      },
      "outputs": [],
      "source": [
        "for col in cols :\n",
        "    x_train[col] = x_train[col].replace({'Yes': 1, 'No': 0})\n",
        "    x_test[col] = x_test[col].replace({'Yes': 1, 'No': 0})"
      ]
    },
    {
      "cell_type": "code",
      "execution_count": null,
      "id": "2e71781b",
      "metadata": {
        "id": "2e71781b"
      },
      "outputs": [],
      "source": [
        "x_train['gender'] =x_train['gender'].replace({'Female': 1, 'Male': 0})\n",
        "#x_train=x_train.drop('MultipleLines_No phone service',axis=1)\n",
        "x_test['gender'] =x_test['gender'].replace({'Female': 1, 'Male': 0})\n",
        "#x_test=x_test.drop('MultipleLines_No phone service',axis=1)"
      ]
    },
    {
      "cell_type": "markdown",
      "id": "fffad9d1",
      "metadata": {
        "id": "fffad9d1"
      },
      "source": [
        "## Data Scalling"
      ]
    },
    {
      "cell_type": "markdown",
      "id": "1957d727",
      "metadata": {
        "id": "1957d727"
      },
      "source": [
        "from sklearn.preprocessing import StandardScaler\n",
        "b1=x_test.iloc[10]\n",
        "col_names = ['tenure', 'MonthlyCharges','TotalCharges']\n",
        "sc = StandardScaler()\n",
        "for col in col_names :\n",
        "    x_train[col] = sc.fit_transform(x_train[col].values.reshape(-1,1))\n",
        "    #values.reshape(-1,1) is used to Convert the 1-D array into a 2-D array\n",
        "    x_test[col] = sc.transform(x_test[col].values.reshape(-1,1))"
      ]
    },
    {
      "cell_type": "code",
      "execution_count": null,
      "id": "0e41b3b1",
      "metadata": {
        "id": "0e41b3b1"
      },
      "outputs": [],
      "source": [
        "from sklearn.preprocessing import MinMaxScaler\n",
        "features = x_train.columns.values\n",
        "scaler = MinMaxScaler(feature_range = (0,1))\n",
        "scaler.fit(x_train)\n",
        "x_train = pd.DataFrame(scaler.transform(x_train))\n",
        "x_train.columns = features\n",
        "x_test=pd.DataFrame(scaler.transform(x_test))\n",
        "x_test.columns = features"
      ]
    },
    {
      "cell_type": "markdown",
      "id": "6fdcd1c8",
      "metadata": {
        "id": "6fdcd1c8"
      },
      "source": [
        "## Models Evaluation"
      ]
    },
    {
      "cell_type": "code",
      "execution_count": null,
      "id": "447fecd6",
      "metadata": {
        "id": "447fecd6"
      },
      "outputs": [],
      "source": [
        "from sklearn.metrics import f1_score\n",
        "from sklearn.metrics import recall_score\n",
        "from sklearn.metrics import precision_score\n",
        "from sklearn.metrics import roc_auc_score\n",
        "from sklearn.metrics import accuracy_score\n",
        "import time\n",
        "from sklearn.naive_bayes import GaussianNB\n",
        "from sklearn.naive_bayes import ComplementNB\n",
        "from sklearn.neural_network import MLPClassifier\n",
        "from sklearn.metrics import classification_report\n",
        "from sklearn.ensemble import RandomForestClassifier\n",
        "from sklearn.metrics import classification_report, confusion_matrix, accuracy_score\n",
        "from sklearn.model_selection import (GridSearchCV,\n",
        "                                     train_test_split,\n",
        "                                     StratifiedKFold)"
      ]
    },
    {
      "cell_type": "markdown",
      "id": "66c7d8e7",
      "metadata": {
        "id": "66c7d8e7"
      },
      "source": [
        "##  Learning curve to evaluate the models"
      ]
    },
    {
      "cell_type": "code",
      "execution_count": null,
      "id": "9c308d5f",
      "metadata": {
        "id": "9c308d5f"
      },
      "outputs": [],
      "source": [
        "from sklearn.model_selection import StratifiedKFold,KFold,cross_val_score,validation_curve,learning_curve"
      ]
    },
    {
      "cell_type": "code",
      "execution_count": null,
      "id": "0e9b3eb5",
      "metadata": {
        "id": "0e9b3eb5"
      },
      "outputs": [],
      "source": [
        "model_names = ['Random Forest Classifier','Gaussian NaiveB classifier','MLP Classifier']\n",
        "models=[RandomForestClassifier(n_estimators=500 , oob_score = True, n_jobs = -1,random_state =50, max_features = \"auto\",max_leaf_nodes = 30),GaussianNB(),MLPClassifier(activation= 'tanh', alpha=0.0001, hidden_layer_sizes=(10, 30, 10), learning_rate= 'adaptive', solver= 'sgd')]"
      ]
    },
    {
      "cell_type": "code",
      "execution_count": null,
      "id": "cca80fdc",
      "metadata": {
        "id": "cca80fdc",
        "outputId": "f5311c40-fef5-4490-dc70-5f00c6051d17"
      },
      "outputs": [
        {
          "data": {
            "text/html": [
              "<div>\n",
              "<style scoped>\n",
              "    .dataframe tbody tr th:only-of-type {\n",
              "        vertical-align: middle;\n",
              "    }\n",
              "\n",
              "    .dataframe tbody tr th {\n",
              "        vertical-align: top;\n",
              "    }\n",
              "\n",
              "    .dataframe thead th {\n",
              "        text-align: right;\n",
              "    }\n",
              "</style>\n",
              "<table border=\"1\" class=\"dataframe\">\n",
              "  <thead>\n",
              "    <tr style=\"text-align: right;\">\n",
              "      <th></th>\n",
              "      <th>gender</th>\n",
              "      <th>SeniorCitizen</th>\n",
              "      <th>Partner</th>\n",
              "      <th>Dependents</th>\n",
              "      <th>tenure</th>\n",
              "      <th>MultipleLines</th>\n",
              "      <th>InternetService</th>\n",
              "      <th>OnlineSecurity</th>\n",
              "      <th>OnlineBackup</th>\n",
              "      <th>DeviceProtection</th>\n",
              "      <th>TechSupport</th>\n",
              "      <th>StreamingTV</th>\n",
              "      <th>StreamingMovies</th>\n",
              "      <th>Contract</th>\n",
              "      <th>PaperlessBilling</th>\n",
              "      <th>PaymentMethod</th>\n",
              "      <th>MonthlyCharges</th>\n",
              "      <th>TotalCharges</th>\n",
              "    </tr>\n",
              "  </thead>\n",
              "  <tbody>\n",
              "    <tr>\n",
              "      <th>1388</th>\n",
              "      <td>Female</td>\n",
              "      <td>No</td>\n",
              "      <td>No</td>\n",
              "      <td>No</td>\n",
              "      <td>12</td>\n",
              "      <td>No</td>\n",
              "      <td>Fiber optic</td>\n",
              "      <td>Yes</td>\n",
              "      <td>No</td>\n",
              "      <td>No</td>\n",
              "      <td>Yes</td>\n",
              "      <td>Yes</td>\n",
              "      <td>Yes</td>\n",
              "      <td>Month-to-month</td>\n",
              "      <td>Yes</td>\n",
              "      <td>Bank transfer (automatic)</td>\n",
              "      <td>98.90</td>\n",
              "      <td>33.480591</td>\n",
              "    </tr>\n",
              "    <tr>\n",
              "      <th>1281</th>\n",
              "      <td>Male</td>\n",
              "      <td>Yes</td>\n",
              "      <td>Yes</td>\n",
              "      <td>No</td>\n",
              "      <td>11</td>\n",
              "      <td>No</td>\n",
              "      <td>Fiber optic</td>\n",
              "      <td>No</td>\n",
              "      <td>No</td>\n",
              "      <td>No</td>\n",
              "      <td>No</td>\n",
              "      <td>No</td>\n",
              "      <td>No</td>\n",
              "      <td>Month-to-month</td>\n",
              "      <td>Yes</td>\n",
              "      <td>Electronic check</td>\n",
              "      <td>70.20</td>\n",
              "      <td>28.891175</td>\n",
              "    </tr>\n",
              "    <tr>\n",
              "      <th>2382</th>\n",
              "      <td>Female</td>\n",
              "      <td>No</td>\n",
              "      <td>No</td>\n",
              "      <td>No</td>\n",
              "      <td>30</td>\n",
              "      <td>Yes</td>\n",
              "      <td>Fiber optic</td>\n",
              "      <td>Yes</td>\n",
              "      <td>No</td>\n",
              "      <td>No</td>\n",
              "      <td>Yes</td>\n",
              "      <td>Yes</td>\n",
              "      <td>Yes</td>\n",
              "      <td>Month-to-month</td>\n",
              "      <td>No</td>\n",
              "      <td>Bank transfer (automatic)</td>\n",
              "      <td>106.40</td>\n",
              "      <td>56.673627</td>\n",
              "    </tr>\n",
              "    <tr>\n",
              "      <th>2076</th>\n",
              "      <td>Male</td>\n",
              "      <td>No</td>\n",
              "      <td>No</td>\n",
              "      <td>No</td>\n",
              "      <td>2</td>\n",
              "      <td>No</td>\n",
              "      <td>Fiber optic</td>\n",
              "      <td>No</td>\n",
              "      <td>No</td>\n",
              "      <td>Yes</td>\n",
              "      <td>Yes</td>\n",
              "      <td>No</td>\n",
              "      <td>No</td>\n",
              "      <td>Month-to-month</td>\n",
              "      <td>Yes</td>\n",
              "      <td>Electronic check</td>\n",
              "      <td>79.85</td>\n",
              "      <td>12.347064</td>\n",
              "    </tr>\n",
              "    <tr>\n",
              "      <th>1195</th>\n",
              "      <td>Female</td>\n",
              "      <td>No</td>\n",
              "      <td>No</td>\n",
              "      <td>No</td>\n",
              "      <td>25</td>\n",
              "      <td>No phone service</td>\n",
              "      <td>DSL</td>\n",
              "      <td>No</td>\n",
              "      <td>No</td>\n",
              "      <td>Yes</td>\n",
              "      <td>Yes</td>\n",
              "      <td>Yes</td>\n",
              "      <td>Yes</td>\n",
              "      <td>One year</td>\n",
              "      <td>No</td>\n",
              "      <td>Electronic check</td>\n",
              "      <td>54.20</td>\n",
              "      <td>37.724660</td>\n",
              "    </tr>\n",
              "    <tr>\n",
              "      <th>...</th>\n",
              "      <td>...</td>\n",
              "      <td>...</td>\n",
              "      <td>...</td>\n",
              "      <td>...</td>\n",
              "      <td>...</td>\n",
              "      <td>...</td>\n",
              "      <td>...</td>\n",
              "      <td>...</td>\n",
              "      <td>...</td>\n",
              "      <td>...</td>\n",
              "      <td>...</td>\n",
              "      <td>...</td>\n",
              "      <td>...</td>\n",
              "      <td>...</td>\n",
              "      <td>...</td>\n",
              "      <td>...</td>\n",
              "      <td>...</td>\n",
              "      <td>...</td>\n",
              "    </tr>\n",
              "    <tr>\n",
              "      <th>1712</th>\n",
              "      <td>Female</td>\n",
              "      <td>No</td>\n",
              "      <td>Yes</td>\n",
              "      <td>Yes</td>\n",
              "      <td>72</td>\n",
              "      <td>Yes</td>\n",
              "      <td>Fiber optic</td>\n",
              "      <td>Yes</td>\n",
              "      <td>Yes</td>\n",
              "      <td>No</td>\n",
              "      <td>Yes</td>\n",
              "      <td>No</td>\n",
              "      <td>No</td>\n",
              "      <td>Two year</td>\n",
              "      <td>Yes</td>\n",
              "      <td>Bank transfer (automatic)</td>\n",
              "      <td>90.35</td>\n",
              "      <td>81.014813</td>\n",
              "    </tr>\n",
              "    <tr>\n",
              "      <th>4928</th>\n",
              "      <td>Female</td>\n",
              "      <td>No</td>\n",
              "      <td>Yes</td>\n",
              "      <td>No</td>\n",
              "      <td>2</td>\n",
              "      <td>Yes</td>\n",
              "      <td>Fiber optic</td>\n",
              "      <td>No</td>\n",
              "      <td>No</td>\n",
              "      <td>No</td>\n",
              "      <td>No</td>\n",
              "      <td>Yes</td>\n",
              "      <td>No</td>\n",
              "      <td>Month-to-month</td>\n",
              "      <td>Yes</td>\n",
              "      <td>Electronic check</td>\n",
              "      <td>84.05</td>\n",
              "      <td>11.577996</td>\n",
              "    </tr>\n",
              "    <tr>\n",
              "      <th>4603</th>\n",
              "      <td>Female</td>\n",
              "      <td>Yes</td>\n",
              "      <td>Yes</td>\n",
              "      <td>No</td>\n",
              "      <td>20</td>\n",
              "      <td>No</td>\n",
              "      <td>Fiber optic</td>\n",
              "      <td>No</td>\n",
              "      <td>No</td>\n",
              "      <td>No</td>\n",
              "      <td>No</td>\n",
              "      <td>Yes</td>\n",
              "      <td>Yes</td>\n",
              "      <td>One year</td>\n",
              "      <td>Yes</td>\n",
              "      <td>Bank transfer (automatic)</td>\n",
              "      <td>91.00</td>\n",
              "      <td>43.121920</td>\n",
              "    </tr>\n",
              "    <tr>\n",
              "      <th>5475</th>\n",
              "      <td>Female</td>\n",
              "      <td>Yes</td>\n",
              "      <td>No</td>\n",
              "      <td>No</td>\n",
              "      <td>14</td>\n",
              "      <td>Yes</td>\n",
              "      <td>Fiber optic</td>\n",
              "      <td>No</td>\n",
              "      <td>Yes</td>\n",
              "      <td>No</td>\n",
              "      <td>No</td>\n",
              "      <td>No</td>\n",
              "      <td>No</td>\n",
              "      <td>Month-to-month</td>\n",
              "      <td>Yes</td>\n",
              "      <td>Electronic check</td>\n",
              "      <td>78.95</td>\n",
              "      <td>33.194126</td>\n",
              "    </tr>\n",
              "    <tr>\n",
              "      <th>441</th>\n",
              "      <td>Male</td>\n",
              "      <td>Yes</td>\n",
              "      <td>Yes</td>\n",
              "      <td>No</td>\n",
              "      <td>1</td>\n",
              "      <td>No phone service</td>\n",
              "      <td>DSL</td>\n",
              "      <td>No</td>\n",
              "      <td>Yes</td>\n",
              "      <td>No</td>\n",
              "      <td>No</td>\n",
              "      <td>Yes</td>\n",
              "      <td>No</td>\n",
              "      <td>Month-to-month</td>\n",
              "      <td>No</td>\n",
              "      <td>Electronic check</td>\n",
              "      <td>40.20</td>\n",
              "      <td>6.340347</td>\n",
              "    </tr>\n",
              "  </tbody>\n",
              "</table>\n",
              "<p>1194 rows × 18 columns</p>\n",
              "</div>"
            ],
            "text/plain": [
              "      gender SeniorCitizen Partner Dependents  tenure     MultipleLines  \\\n",
              "1388  Female            No      No         No      12                No   \n",
              "1281    Male           Yes     Yes         No      11                No   \n",
              "2382  Female            No      No         No      30               Yes   \n",
              "2076    Male            No      No         No       2                No   \n",
              "1195  Female            No      No         No      25  No phone service   \n",
              "...      ...           ...     ...        ...     ...               ...   \n",
              "1712  Female            No     Yes        Yes      72               Yes   \n",
              "4928  Female            No     Yes         No       2               Yes   \n",
              "4603  Female           Yes     Yes         No      20                No   \n",
              "5475  Female           Yes      No         No      14               Yes   \n",
              "441     Male           Yes     Yes         No       1  No phone service   \n",
              "\n",
              "     InternetService OnlineSecurity OnlineBackup DeviceProtection TechSupport  \\\n",
              "1388     Fiber optic            Yes           No               No         Yes   \n",
              "1281     Fiber optic             No           No               No          No   \n",
              "2382     Fiber optic            Yes           No               No         Yes   \n",
              "2076     Fiber optic             No           No              Yes         Yes   \n",
              "1195             DSL             No           No              Yes         Yes   \n",
              "...              ...            ...          ...              ...         ...   \n",
              "1712     Fiber optic            Yes          Yes               No         Yes   \n",
              "4928     Fiber optic             No           No               No          No   \n",
              "4603     Fiber optic             No           No               No          No   \n",
              "5475     Fiber optic             No          Yes               No          No   \n",
              "441              DSL             No          Yes               No          No   \n",
              "\n",
              "     StreamingTV StreamingMovies        Contract PaperlessBilling  \\\n",
              "1388         Yes             Yes  Month-to-month              Yes   \n",
              "1281          No              No  Month-to-month              Yes   \n",
              "2382         Yes             Yes  Month-to-month               No   \n",
              "2076          No              No  Month-to-month              Yes   \n",
              "1195         Yes             Yes        One year               No   \n",
              "...          ...             ...             ...              ...   \n",
              "1712          No              No        Two year              Yes   \n",
              "4928         Yes              No  Month-to-month              Yes   \n",
              "4603         Yes             Yes        One year              Yes   \n",
              "5475          No              No  Month-to-month              Yes   \n",
              "441          Yes              No  Month-to-month               No   \n",
              "\n",
              "                  PaymentMethod  MonthlyCharges  TotalCharges  \n",
              "1388  Bank transfer (automatic)           98.90     33.480591  \n",
              "1281           Electronic check           70.20     28.891175  \n",
              "2382  Bank transfer (automatic)          106.40     56.673627  \n",
              "2076           Electronic check           79.85     12.347064  \n",
              "1195           Electronic check           54.20     37.724660  \n",
              "...                         ...             ...           ...  \n",
              "1712  Bank transfer (automatic)           90.35     81.014813  \n",
              "4928           Electronic check           84.05     11.577996  \n",
              "4603  Bank transfer (automatic)           91.00     43.121920  \n",
              "5475           Electronic check           78.95     33.194126  \n",
              "441            Electronic check           40.20      6.340347  \n",
              "\n",
              "[1194 rows x 18 columns]"
            ]
          },
          "execution_count": 53,
          "metadata": {},
          "output_type": "execute_result"
        }
      ],
      "source": [
        "a"
      ]
    },
    {
      "cell_type": "code",
      "execution_count": null,
      "id": "5e63c489",
      "metadata": {
        "id": "5e63c489"
      },
      "outputs": [],
      "source": [
        "arr=[0,1,2]"
      ]
    },
    {
      "cell_type": "code",
      "execution_count": null,
      "id": "ca43a430",
      "metadata": {
        "id": "ca43a430",
        "outputId": "cc00bf6a-7b49-4de4-c5e1-1e872faa9c8e"
      },
      "outputs": [
        {
          "name": "stderr",
          "output_type": "stream",
          "text": [
            "C:\\Users\\PC\\Documents\\Anaconda3\\lib\\site-packages\\sklearn\\neural_network\\_multilayer_perceptron.py:614: ConvergenceWarning: Stochastic Optimizer: Maximum iterations (200) reached and the optimization hasn't converged yet.\n",
            "  warnings.warn(\n"
          ]
        },
        {
          "data": {
            "image/png": "[encoded data removed]",
            "text/plain": [
              "<Figure size 2520x576 with 3 Axes>"
            ]
          },
          "metadata": {
            "needs_background": "light"
          },
          "output_type": "display_data"
        },
        {
          "name": "stdout",
          "output_type": "stream",
          "text": [
            "required Time : 34.26462721824646\n"
          ]
        }
      ],
      "source": [
        "fig, axes = plt.subplots(1,3,figsize=(35, 8))\n",
        "\n",
        "axes = axes.ravel()\n",
        "start=time.time()\n",
        "for ax,model,i in zip(axes,models,arr) :\n",
        "    size = 10\n",
        "    model.fit(x_train,y_train)\n",
        "    cv = StratifiedKFold(size, shuffle=True)\n",
        "    train_sizes, train_scores, test_scores = learning_curve(model, x_train, y_train, n_jobs=-1, cv=cv, train_sizes=np.linspace(.1, 1.0, 5), verbose=0)\n",
        "    train_scores_mean = np.mean(train_scores, axis=1)\n",
        "    train_scores_std = np.std(train_scores, axis=1)\n",
        "    test_scores_mean = np.mean(test_scores, axis=1)\n",
        "    test_scores_std = np.std(test_scores, axis=1)\n",
        "\n",
        "    #ax.subplots( figsize=(8,8))\n",
        "    ax.set_title(model_names[i])\n",
        "\n",
        "    ax.set_xlabel(\"Training examples\")\n",
        "    ax.set_ylabel(\"Score\")\n",
        "    # plot the std deviation as a transparent range at each training set size\n",
        "    ax.fill_between(train_sizes, train_scores_mean - train_scores_std, train_scores_mean + train_scores_std, alpha=0.1, color=\"r\")\n",
        "    ax.fill_between(train_sizes, test_scores_mean - test_scores_std, test_scores_mean + test_scores_std, alpha=0.1, color=\"g\")\n",
        "    # plot the average training and test score lines at each training set size\n",
        "    ax.plot(train_sizes, train_scores_mean, 'o-', color=\"r\", label=\"Training score\")\n",
        "    ax.plot(train_sizes, test_scores_mean, 'o-', color=\"g\", label=\"Cross-validation score\")\n",
        "    ax.legend(loc=\"lower right\")\n",
        "    # sizes the window for readability and displays the plot\n",
        "    # shows error from 0 to 1.1\n",
        "    ax.grid()\n",
        "\n",
        "plt.show()\n",
        "end=time.time()\n",
        "print('required Time :',(end-start))"
      ]
    },
    {
      "cell_type": "markdown",
      "id": "5995cf61",
      "metadata": {
        "id": "5995cf61"
      },
      "source": [
        "### The rabdom Forest classifier's learning curve converges, which means it is a good fit, it is the most accurate model, it also  indicates thet the addition of more training examples doesn’t improve the model performance on unseen data.\n"
      ]
    },
    {
      "cell_type": "code",
      "execution_count": null,
      "id": "8b728b86",
      "metadata": {
        "id": "8b728b86",
        "outputId": "a6405f01-acf9-435c-c3e1-ece8e8dc2e1c"
      },
      "outputs": [
        {
          "name": "stdout",
          "output_type": "stream",
          "text": [
            "Accuracy :  0.8065326633165829\n",
            "              precision    recall  f1-score   support\n",
            "\n",
            "           0       0.84      0.91      0.87       879\n",
            "           1       0.67      0.53      0.59       315\n",
            "\n",
            "    accuracy                           0.81      1194\n",
            "   macro avg       0.76      0.72      0.73      1194\n",
            "weighted avg       0.80      0.81      0.80      1194\n",
            "\n"
          ]
        },
        {
          "name": "stderr",
          "output_type": "stream",
          "text": [
            "C:\\Users\\PC\\Documents\\Anaconda3\\lib\\site-packages\\sklearn\\neural_network\\_multilayer_perceptron.py:614: ConvergenceWarning: Stochastic Optimizer: Maximum iterations (200) reached and the optimization hasn't converged yet.\n",
            "  warnings.warn(\n"
          ]
        }
      ],
      "source": [
        "model_rft=models[2]\n",
        "model_rft.fit(x_train,y_train)\n",
        "y_pred = model_rft.predict(x_test)\n",
        "acc = accuracy_score(y_test,y_pred)\n",
        "print('Accuracy : ',acc)\n",
        "print(classification_report(y_test,y_pred))"
      ]
    },
    {
      "cell_type": "code",
      "execution_count": null,
      "id": "12291252",
      "metadata": {
        "id": "12291252",
        "outputId": "9c9861da-b71d-43c9-98e5-78915adf2c2f"
      },
      "outputs": [
        {
          "name": "stdout",
          "output_type": "stream",
          "text": [
            "Accuracy :  0.804857621440536\n",
            "              precision    recall  f1-score   support\n",
            "\n",
            "           0       0.83      0.92      0.87       879\n",
            "           1       0.69      0.48      0.56       315\n",
            "\n",
            "    accuracy                           0.80      1194\n",
            "   macro avg       0.76      0.70      0.72      1194\n",
            "weighted avg       0.79      0.80      0.79      1194\n",
            "\n"
          ]
        }
      ],
      "source": [
        "model_rft=RandomForestClassifier(n_estimators=500 , oob_score = True, n_jobs = -1,random_state =50, max_features = \"auto\",max_leaf_nodes = 30)\n",
        "model_rft.fit(x_train,y_train)\n",
        "y_pred = model_rft.predict(x_test)\n",
        "\n",
        "acc = accuracy_score(y_test,y_pred)\n",
        "print('Accuracy : ',acc)\n",
        "print(classification_report(y_test,y_pred))"
      ]
    },
    {
      "cell_type": "markdown",
      "id": "ce8d4f61",
      "metadata": {
        "id": "ce8d4f61"
      },
      "source": [
        "### 10-fold cross Validation"
      ]
    },
    {
      "cell_type": "code",
      "execution_count": null,
      "id": "4b5ca79e",
      "metadata": {
        "id": "4b5ca79e"
      },
      "outputs": [],
      "source": [
        "size=10\n",
        "skFold=StratifiedKFold(size, shuffle=True)"
      ]
    },
    {
      "cell_type": "code",
      "execution_count": null,
      "id": "04fc71f5",
      "metadata": {
        "id": "04fc71f5"
      },
      "outputs": [],
      "source": [
        "all_accuracies = cross_val_score(RandomForestClassifier(n_estimators=500 , oob_score = True, n_jobs = -1,random_state =50, max_features = \"auto\",max_leaf_nodes = 30),x_train,y_train, scoring='accuracy', cv=skFold, n_jobs=-1)"
      ]
    },
    {
      "cell_type": "code",
      "execution_count": null,
      "id": "20583b5e",
      "metadata": {
        "id": "20583b5e",
        "outputId": "00b31212-f940-4236-9000-fd6282fd3651"
      },
      "outputs": [
        {
          "name": "stdout",
          "output_type": "stream",
          "text": [
            "cross validation scores mean :  0.7975246265449156\n",
            "deviation :  0.016213089596817734\n"
          ]
        },
        {
          "data": {
            "image/png": "[encoded data removed]",
            "text/plain": [
              "<Figure size 720x720 with 1 Axes>"
            ]
          },
          "metadata": {
            "needs_background": "light"
          },
          "output_type": "display_data"
        }
      ],
      "source": [
        "plt.figure(figsize=(10,10))\n",
        "sorted_columns = model_rft.feature_importances_.argsort()\n",
        "plt_rf =plt.barh(x_train.columns[sorted_columns], model_rft.feature_importances_[sorted_columns],color='#fc666f')\n",
        "plt.title('Feature importances ')\n",
        "print('cross validation scores mean : ',all_accuracies.mean())\n",
        "print('deviation : ',all_accuracies.std())"
      ]
    },
    {
      "cell_type": "code",
      "execution_count": null,
      "id": "5b9d89c7",
      "metadata": {
        "id": "5b9d89c7",
        "outputId": "0d604c7e-51b1-4583-fab1-a4e82288ef61"
      },
      "outputs": [
        {
          "name": "stdout",
          "output_type": "stream",
          "text": [
            "deviation :  0.016213089596817734\n"
          ]
        }
      ],
      "source": [
        "print('deviation : ',all_accuracies.std())"
      ]
    },
    {
      "cell_type": "markdown",
      "id": "e987e149",
      "metadata": {
        "id": "e987e149"
      },
      "source": [
        "### the deviation is extremely low, which means that our model has a very low variance;  the model will perform more or less similar on all test sets."
      ]
    },
    {
      "cell_type": "markdown",
      "id": "046c8d7a",
      "metadata": {
        "id": "046c8d7a"
      },
      "source": [
        "## Hyperparametrs tuning"
      ]
    },
    {
      "cell_type": "markdown",
      "id": "634f4450",
      "metadata": {
        "id": "634f4450"
      },
      "source": [
        "### MLP Classifier"
      ]
    },
    {
      "cell_type": "code",
      "execution_count": null,
      "id": "21594e51",
      "metadata": {
        "id": "21594e51",
        "outputId": "d0bb3292-2301-4283-861d-eeae2e2e4594"
      },
      "outputs": [
        {
          "name": "stderr",
          "output_type": "stream",
          "text": [
            "C:\\Users\\PC\\Documents\\Anaconda3\\lib\\site-packages\\sklearn\\neural_network\\_multilayer_perceptron.py:614: ConvergenceWarning: Stochastic Optimizer: Maximum iterations (200) reached and the optimization hasn't converged yet.\n",
            "  warnings.warn(\n"
          ]
        },
        {
          "data": {
            "text/plain": [
              "GridSearchCV(cv=5, estimator=MLPClassifier(), n_jobs=-1,\n",
              "             param_grid={'activation': ['tanh', 'relu'],\n",
              "                         'alpha': [0.0001, 0.05],\n",
              "                         'hidden_layer_sizes': [(10, 30, 10), (20,)],\n",
              "                         'learning_rate': ['constant', 'adaptive'],\n",
              "                         'solver': ['sgd', 'adam']})"
            ]
          },
          "execution_count": 62,
          "metadata": {},
          "output_type": "execute_result"
        }
      ],
      "source": [
        "mlp_gs = MLPClassifier()\n",
        "parameter_space = {\n",
        "    'hidden_layer_sizes': [(10,30,10),(20,)],\n",
        "    'activation': ['tanh', 'relu'],\n",
        "    'solver': ['sgd', 'adam'],\n",
        "    'alpha': [0.0001, 0.05],\n",
        "    'learning_rate': ['constant','adaptive'],\n",
        "}\n",
        "from sklearn.model_selection import GridSearchCV\n",
        "clf = GridSearchCV(mlp_gs, parameter_space, n_jobs=-1, cv=5)\n",
        "clf.fit(x_test, y_test)"
      ]
    },
    {
      "cell_type": "code",
      "execution_count": null,
      "id": "899e5fcf",
      "metadata": {
        "id": "899e5fcf",
        "outputId": "bd3ff9e4-5cc1-4590-e507-b745ea2dd647"
      },
      "outputs": [
        {
          "name": "stdout",
          "output_type": "stream",
          "text": [
            "Best parameters found:\n",
            " {'activation': 'relu', 'alpha': 0.0001, 'hidden_layer_sizes': (20,), 'learning_rate': 'constant', 'solver': 'adam'}\n"
          ]
        }
      ],
      "source": [
        "print('Best parameters found:\\n', clf.best_params_)"
      ]
    },
    {
      "cell_type": "code",
      "execution_count": null,
      "id": "672f866e",
      "metadata": {
        "id": "672f866e",
        "outputId": "4cadf56c-decc-48a4-a282-a045a1bae34c"
      },
      "outputs": [
        {
          "name": "stdout",
          "output_type": "stream",
          "text": [
            "Results on the test set:\n",
            "0.838358458961474\n"
          ]
        }
      ],
      "source": [
        "y_true, y_pred = y_test , clf.predict(x_test)\n",
        "from sklearn.metrics import classification_report\n",
        "print('Results on the test set:')\n",
        "print(accuracy_score(y_true, y_pred))"
      ]
    },
    {
      "cell_type": "markdown",
      "id": "f4e46bd1",
      "metadata": {
        "id": "f4e46bd1"
      },
      "source": [
        "### Random Forest"
      ]
    },
    {
      "cell_type": "code",
      "execution_count": null,
      "id": "e329895c",
      "metadata": {
        "id": "e329895c",
        "outputId": "5d8a9df4-7650-4f41-f466-fe08b70a37e2"
      },
      "outputs": [
        {
          "data": {
            "text/plain": [
              "{'n_estimators': 130,\n",
              " 'min_samples_leaf': 2,\n",
              " 'max_features': 11,\n",
              " 'criterion': 'gini',\n",
              " 'class_weight': 'balanced_subsample'}"
            ]
          },
          "execution_count": 65,
          "metadata": {},
          "output_type": "execute_result"
        }
      ],
      "source": [
        "from sklearn.model_selection import RandomizedSearchCV\n",
        "model_rft= RandomForestClassifier()\n",
        "distributions = dict(max_features=np.arange(1, 18, 1), n_estimators=np.arange(10, 1000, 10), min_samples_leaf=np.arange(1, 9, 1),\n",
        "                    criterion=['gini', 'entropy'], class_weight=['balanced', 'balanced_subsample'])\n",
        "rcv = RandomizedSearchCV(model_rft, distributions, random_state=17)\n",
        "search3 = rcv.fit(x_train, y_train)\n",
        "search3.best_params_"
      ]
    },
    {
      "cell_type": "markdown",
      "id": "16285f87",
      "metadata": {
        "id": "16285f87"
      },
      "source": [
        "## Model deployement"
      ]
    },
    {
      "cell_type": "code",
      "execution_count": null,
      "id": "affd9ef9",
      "metadata": {
        "id": "affd9ef9"
      },
      "outputs": [],
      "source": [
        "import pickle"
      ]
    },
    {
      "cell_type": "code",
      "execution_count": null,
      "id": "6fa8a6ce",
      "metadata": {
        "id": "6fa8a6ce"
      },
      "outputs": [],
      "source": [
        "pickle.dump(models[0], open('randomforest.pkl','wb'))\n",
        "pickle.dump(models[1], open('gaussiannbclass.pkl','wb'))\n",
        "pickle.dump(models[2], open('mlpclassifier.pkl','wb'))"
      ]
    },
    {
      "cell_type": "code",
      "execution_count": null,
      "id": "3c3d4d8f",
      "metadata": {
        "id": "3c3d4d8f",
        "outputId": "aced108c-1eb6-477d-c912-bccac4d16461"
      },
      "outputs": [
        {
          "name": "stderr",
          "output_type": "stream",
          "text": [
            "C:\\Users\\PC\\Documents\\Anaconda3\\lib\\site-packages\\sklearn\\base.py:310: UserWarning: Trying to unpickle estimator DecisionTreeClassifier from version 0.24.2 when using version 0.24.1. This might lead to breaking code or invalid results. Use at your own risk.\n",
            "  warnings.warn(\n",
            "C:\\Users\\PC\\Documents\\Anaconda3\\lib\\site-packages\\sklearn\\base.py:310: UserWarning: Trying to unpickle estimator RandomForestClassifier from version 0.24.2 when using version 0.24.1. This might lead to breaking code or invalid results. Use at your own risk.\n",
            "  warnings.warn(\n"
          ]
        }
      ],
      "source": [
        "model = pickle.load(open('random.pkl','rb'))"
      ]
    },
    {
      "cell_type": "code",
      "execution_count": null,
      "id": "be52447d",
      "metadata": {
        "id": "be52447d",
        "outputId": "5b8d8a80-4fcf-4c48-e551-b2a21c6f4252"
      },
      "outputs": [
        {
          "data": {
            "text/plain": [
              "RandomForestClassifier(max_leaf_nodes=30, n_estimators=500, n_jobs=-1,\n",
              "                       oob_score=True, random_state=50)"
            ]
          },
          "execution_count": 69,
          "metadata": {},
          "output_type": "execute_result"
        }
      ],
      "source": [
        "model"
      ]
    },
    {
      "cell_type": "code",
      "execution_count": null,
      "id": "b0425d66",
      "metadata": {
        "id": "b0425d66"
      },
      "outputs": [],
      "source": [
        "m=MLPClassifier(max_iter=1000,activation='tanh',alpha= 0.1, hidden_layer_sizes= (20,), learning_rate= 'adaptive', solver='sgd')"
      ]
    },
    {
      "cell_type": "markdown",
      "id": "f4f1a127",
      "metadata": {
        "id": "f4f1a127"
      },
      "source": [
        "## Pickling the training and testing sets"
      ]
    },
    {
      "cell_type": "code",
      "execution_count": null,
      "id": "26680cc0",
      "metadata": {
        "id": "26680cc0"
      },
      "outputs": [],
      "source": [
        "import pickle\n",
        "filename = 'xtestSet.csv'\n",
        "pickle.dump(x_test, open(filename, 'wb'))"
      ]
    },
    {
      "cell_type": "code",
      "execution_count": null,
      "id": "9ddfc550",
      "metadata": {
        "id": "9ddfc550"
      },
      "outputs": [],
      "source": [
        "import pickle\n",
        "filename = 'ytestSet.csv'\n",
        "pickle.dump(y_test, open(filename, 'wb'))"
      ]
    },
    {
      "cell_type": "code",
      "execution_count": null,
      "id": "af3e68ba",
      "metadata": {
        "id": "af3e68ba"
      },
      "outputs": [],
      "source": [
        "import pickle\n",
        "filename = 'xtrainSet.csv'\n",
        "pickle.dump(x_train, open(filename, 'wb'))"
      ]
    },
    {
      "cell_type": "code",
      "execution_count": null,
      "id": "9b387f8e",
      "metadata": {
        "id": "9b387f8e"
      },
      "outputs": [],
      "source": [
        "import pickle\n",
        "filename = 'ytrainSet.csv'\n",
        "pickle.dump(y_train, open(filename, 'wb'))"
      ]
    },
    {
      "cell_type": "code",
      "execution_count": null,
      "id": "13eb8162",
      "metadata": {
        "id": "13eb8162",
        "outputId": "3e44decc-579b-4a27-8280-8c8a64dbe5f3"
      },
      "outputs": [
        {
          "data": {
            "text/html": [
              "<div>\n",
              "<style scoped>\n",
              "    .dataframe tbody tr th:only-of-type {\n",
              "        vertical-align: middle;\n",
              "    }\n",
              "\n",
              "    .dataframe tbody tr th {\n",
              "        vertical-align: top;\n",
              "    }\n",
              "\n",
              "    .dataframe thead th {\n",
              "        text-align: right;\n",
              "    }\n",
              "</style>\n",
              "<table border=\"1\" class=\"dataframe\">\n",
              "  <thead>\n",
              "    <tr style=\"text-align: right;\">\n",
              "      <th></th>\n",
              "      <th>gender</th>\n",
              "      <th>SeniorCitizen</th>\n",
              "      <th>Partner</th>\n",
              "      <th>Dependents</th>\n",
              "      <th>tenure</th>\n",
              "      <th>MultipleLines_No</th>\n",
              "      <th>MultipleLines_Yes</th>\n",
              "      <th>MultipleLines_No phone service</th>\n",
              "      <th>InternetService_DSL</th>\n",
              "      <th>InternetService_Fiber optic</th>\n",
              "      <th>...</th>\n",
              "      <th>Contract_Month-to-month</th>\n",
              "      <th>Contract_Two year</th>\n",
              "      <th>Contract_One year</th>\n",
              "      <th>PaperlessBilling</th>\n",
              "      <th>PaymentMethod_Electronic check</th>\n",
              "      <th>PaymentMethod_Mailed check</th>\n",
              "      <th>PaymentMethod_Credit card (automatic)</th>\n",
              "      <th>PaymentMethod_Bank transfer (automatic)</th>\n",
              "      <th>MonthlyCharges</th>\n",
              "      <th>TotalCharges</th>\n",
              "    </tr>\n",
              "  </thead>\n",
              "  <tbody>\n",
              "    <tr>\n",
              "      <th>5293</th>\n",
              "      <td>0</td>\n",
              "      <td>0</td>\n",
              "      <td>0</td>\n",
              "      <td>0</td>\n",
              "      <td>1</td>\n",
              "      <td>1</td>\n",
              "      <td>0</td>\n",
              "      <td>0</td>\n",
              "      <td>1</td>\n",
              "      <td>0</td>\n",
              "      <td>...</td>\n",
              "      <td>1</td>\n",
              "      <td>0</td>\n",
              "      <td>0</td>\n",
              "      <td>0</td>\n",
              "      <td>1</td>\n",
              "      <td>0</td>\n",
              "      <td>0</td>\n",
              "      <td>0</td>\n",
              "      <td>45.30</td>\n",
              "      <td>6.730527</td>\n",
              "    </tr>\n",
              "    <tr>\n",
              "      <th>5077</th>\n",
              "      <td>1</td>\n",
              "      <td>1</td>\n",
              "      <td>1</td>\n",
              "      <td>0</td>\n",
              "      <td>32</td>\n",
              "      <td>0</td>\n",
              "      <td>1</td>\n",
              "      <td>0</td>\n",
              "      <td>0</td>\n",
              "      <td>1</td>\n",
              "      <td>...</td>\n",
              "      <td>1</td>\n",
              "      <td>0</td>\n",
              "      <td>0</td>\n",
              "      <td>0</td>\n",
              "      <td>0</td>\n",
              "      <td>1</td>\n",
              "      <td>0</td>\n",
              "      <td>0</td>\n",
              "      <td>79.30</td>\n",
              "      <td>50.695167</td>\n",
              "    </tr>\n",
              "    <tr>\n",
              "      <th>3625</th>\n",
              "      <td>1</td>\n",
              "      <td>0</td>\n",
              "      <td>0</td>\n",
              "      <td>0</td>\n",
              "      <td>25</td>\n",
              "      <td>0</td>\n",
              "      <td>1</td>\n",
              "      <td>0</td>\n",
              "      <td>0</td>\n",
              "      <td>1</td>\n",
              "      <td>...</td>\n",
              "      <td>0</td>\n",
              "      <td>1</td>\n",
              "      <td>0</td>\n",
              "      <td>0</td>\n",
              "      <td>1</td>\n",
              "      <td>0</td>\n",
              "      <td>0</td>\n",
              "      <td>0</td>\n",
              "      <td>108.90</td>\n",
              "      <td>53.000472</td>\n",
              "    </tr>\n",
              "    <tr>\n",
              "      <th>4930</th>\n",
              "      <td>0</td>\n",
              "      <td>0</td>\n",
              "      <td>0</td>\n",
              "      <td>0</td>\n",
              "      <td>1</td>\n",
              "      <td>1</td>\n",
              "      <td>0</td>\n",
              "      <td>0</td>\n",
              "      <td>0</td>\n",
              "      <td>1</td>\n",
              "      <td>...</td>\n",
              "      <td>1</td>\n",
              "      <td>0</td>\n",
              "      <td>0</td>\n",
              "      <td>1</td>\n",
              "      <td>1</td>\n",
              "      <td>0</td>\n",
              "      <td>0</td>\n",
              "      <td>0</td>\n",
              "      <td>88.35</td>\n",
              "      <td>9.399468</td>\n",
              "    </tr>\n",
              "    <tr>\n",
              "      <th>4384</th>\n",
              "      <td>1</td>\n",
              "      <td>0</td>\n",
              "      <td>1</td>\n",
              "      <td>1</td>\n",
              "      <td>34</td>\n",
              "      <td>1</td>\n",
              "      <td>0</td>\n",
              "      <td>0</td>\n",
              "      <td>0</td>\n",
              "      <td>0</td>\n",
              "      <td>...</td>\n",
              "      <td>1</td>\n",
              "      <td>0</td>\n",
              "      <td>0</td>\n",
              "      <td>0</td>\n",
              "      <td>0</td>\n",
              "      <td>1</td>\n",
              "      <td>0</td>\n",
              "      <td>0</td>\n",
              "      <td>20.65</td>\n",
              "      <td>26.765650</td>\n",
              "    </tr>\n",
              "    <tr>\n",
              "      <th>...</th>\n",
              "      <td>...</td>\n",
              "      <td>...</td>\n",
              "      <td>...</td>\n",
              "      <td>...</td>\n",
              "      <td>...</td>\n",
              "      <td>...</td>\n",
              "      <td>...</td>\n",
              "      <td>...</td>\n",
              "      <td>...</td>\n",
              "      <td>...</td>\n",
              "      <td>...</td>\n",
              "      <td>...</td>\n",
              "      <td>...</td>\n",
              "      <td>...</td>\n",
              "      <td>...</td>\n",
              "      <td>...</td>\n",
              "      <td>...</td>\n",
              "      <td>...</td>\n",
              "      <td>...</td>\n",
              "      <td>...</td>\n",
              "      <td>...</td>\n",
              "    </tr>\n",
              "    <tr>\n",
              "      <th>1903</th>\n",
              "      <td>1</td>\n",
              "      <td>1</td>\n",
              "      <td>0</td>\n",
              "      <td>0</td>\n",
              "      <td>16</td>\n",
              "      <td>1</td>\n",
              "      <td>0</td>\n",
              "      <td>0</td>\n",
              "      <td>0</td>\n",
              "      <td>1</td>\n",
              "      <td>...</td>\n",
              "      <td>1</td>\n",
              "      <td>0</td>\n",
              "      <td>0</td>\n",
              "      <td>1</td>\n",
              "      <td>1</td>\n",
              "      <td>0</td>\n",
              "      <td>0</td>\n",
              "      <td>0</td>\n",
              "      <td>94.45</td>\n",
              "      <td>38.874156</td>\n",
              "    </tr>\n",
              "    <tr>\n",
              "      <th>2074</th>\n",
              "      <td>0</td>\n",
              "      <td>0</td>\n",
              "      <td>0</td>\n",
              "      <td>0</td>\n",
              "      <td>60</td>\n",
              "      <td>0</td>\n",
              "      <td>1</td>\n",
              "      <td>0</td>\n",
              "      <td>0</td>\n",
              "      <td>1</td>\n",
              "      <td>...</td>\n",
              "      <td>0</td>\n",
              "      <td>1</td>\n",
              "      <td>0</td>\n",
              "      <td>1</td>\n",
              "      <td>1</td>\n",
              "      <td>0</td>\n",
              "      <td>0</td>\n",
              "      <td>0</td>\n",
              "      <td>89.55</td>\n",
              "      <td>72.327035</td>\n",
              "    </tr>\n",
              "    <tr>\n",
              "      <th>1500</th>\n",
              "      <td>0</td>\n",
              "      <td>0</td>\n",
              "      <td>0</td>\n",
              "      <td>0</td>\n",
              "      <td>72</td>\n",
              "      <td>0</td>\n",
              "      <td>0</td>\n",
              "      <td>1</td>\n",
              "      <td>1</td>\n",
              "      <td>0</td>\n",
              "      <td>...</td>\n",
              "      <td>0</td>\n",
              "      <td>1</td>\n",
              "      <td>0</td>\n",
              "      <td>1</td>\n",
              "      <td>0</td>\n",
              "      <td>0</td>\n",
              "      <td>1</td>\n",
              "      <td>0</td>\n",
              "      <td>61.20</td>\n",
              "      <td>66.258962</td>\n",
              "    </tr>\n",
              "    <tr>\n",
              "      <th>5138</th>\n",
              "      <td>1</td>\n",
              "      <td>0</td>\n",
              "      <td>0</td>\n",
              "      <td>0</td>\n",
              "      <td>1</td>\n",
              "      <td>1</td>\n",
              "      <td>0</td>\n",
              "      <td>0</td>\n",
              "      <td>0</td>\n",
              "      <td>0</td>\n",
              "      <td>...</td>\n",
              "      <td>1</td>\n",
              "      <td>0</td>\n",
              "      <td>0</td>\n",
              "      <td>1</td>\n",
              "      <td>0</td>\n",
              "      <td>1</td>\n",
              "      <td>0</td>\n",
              "      <td>0</td>\n",
              "      <td>19.55</td>\n",
              "      <td>4.421538</td>\n",
              "    </tr>\n",
              "    <tr>\n",
              "      <th>5122</th>\n",
              "      <td>0</td>\n",
              "      <td>0</td>\n",
              "      <td>1</td>\n",
              "      <td>1</td>\n",
              "      <td>62</td>\n",
              "      <td>1</td>\n",
              "      <td>0</td>\n",
              "      <td>0</td>\n",
              "      <td>0</td>\n",
              "      <td>0</td>\n",
              "      <td>...</td>\n",
              "      <td>0</td>\n",
              "      <td>0</td>\n",
              "      <td>1</td>\n",
              "      <td>0</td>\n",
              "      <td>0</td>\n",
              "      <td>0</td>\n",
              "      <td>0</td>\n",
              "      <td>1</td>\n",
              "      <td>19.95</td>\n",
              "      <td>35.281723</td>\n",
              "    </tr>\n",
              "  </tbody>\n",
              "</table>\n",
              "<p>4788 rows × 39 columns</p>\n",
              "</div>"
            ],
            "text/plain": [
              "      gender  SeniorCitizen  Partner  Dependents  tenure  MultipleLines_No  \\\n",
              "5293       0              0        0           0       1                 1   \n",
              "5077       1              1        1           0      32                 0   \n",
              "3625       1              0        0           0      25                 0   \n",
              "4930       0              0        0           0       1                 1   \n",
              "4384       1              0        1           1      34                 1   \n",
              "...      ...            ...      ...         ...     ...               ...   \n",
              "1903       1              1        0           0      16                 1   \n",
              "2074       0              0        0           0      60                 0   \n",
              "1500       0              0        0           0      72                 0   \n",
              "5138       1              0        0           0       1                 1   \n",
              "5122       0              0        1           1      62                 1   \n",
              "\n",
              "      MultipleLines_Yes  MultipleLines_No phone service  InternetService_DSL  \\\n",
              "5293                  0                               0                    1   \n",
              "5077                  1                               0                    0   \n",
              "3625                  1                               0                    0   \n",
              "4930                  0                               0                    0   \n",
              "4384                  0                               0                    0   \n",
              "...                 ...                             ...                  ...   \n",
              "1903                  0                               0                    0   \n",
              "2074                  1                               0                    0   \n",
              "1500                  0                               1                    1   \n",
              "5138                  0                               0                    0   \n",
              "5122                  0                               0                    0   \n",
              "\n",
              "      InternetService_Fiber optic  ...  Contract_Month-to-month  \\\n",
              "5293                            0  ...                        1   \n",
              "5077                            1  ...                        1   \n",
              "3625                            1  ...                        0   \n",
              "4930                            1  ...                        1   \n",
              "4384                            0  ...                        1   \n",
              "...                           ...  ...                      ...   \n",
              "1903                            1  ...                        1   \n",
              "2074                            1  ...                        0   \n",
              "1500                            0  ...                        0   \n",
              "5138                            0  ...                        1   \n",
              "5122                            0  ...                        0   \n",
              "\n",
              "      Contract_Two year  Contract_One year  PaperlessBilling  \\\n",
              "5293                  0                  0                 0   \n",
              "5077                  0                  0                 0   \n",
              "3625                  1                  0                 0   \n",
              "4930                  0                  0                 1   \n",
              "4384                  0                  0                 0   \n",
              "...                 ...                ...               ...   \n",
              "1903                  0                  0                 1   \n",
              "2074                  1                  0                 1   \n",
              "1500                  1                  0                 1   \n",
              "5138                  0                  0                 1   \n",
              "5122                  0                  1                 0   \n",
              "\n",
              "      PaymentMethod_Electronic check  PaymentMethod_Mailed check  \\\n",
              "5293                               1                           0   \n",
              "5077                               0                           1   \n",
              "3625                               1                           0   \n",
              "4930                               1                           0   \n",
              "4384                               0                           1   \n",
              "...                              ...                         ...   \n",
              "1903                               1                           0   \n",
              "2074                               1                           0   \n",
              "1500                               0                           0   \n",
              "5138                               0                           1   \n",
              "5122                               0                           0   \n",
              "\n",
              "      PaymentMethod_Credit card (automatic)  \\\n",
              "5293                                      0   \n",
              "5077                                      0   \n",
              "3625                                      0   \n",
              "4930                                      0   \n",
              "4384                                      0   \n",
              "...                                     ...   \n",
              "1903                                      0   \n",
              "2074                                      0   \n",
              "1500                                      1   \n",
              "5138                                      0   \n",
              "5122                                      0   \n",
              "\n",
              "      PaymentMethod_Bank transfer (automatic)  MonthlyCharges  TotalCharges  \n",
              "5293                                        0           45.30      6.730527  \n",
              "5077                                        0           79.30     50.695167  \n",
              "3625                                        0          108.90     53.000472  \n",
              "4930                                        0           88.35      9.399468  \n",
              "4384                                        0           20.65     26.765650  \n",
              "...                                       ...             ...           ...  \n",
              "1903                                        0           94.45     38.874156  \n",
              "2074                                        0           89.55     72.327035  \n",
              "1500                                        0           61.20     66.258962  \n",
              "5138                                        0           19.55      4.421538  \n",
              "5122                                        1           19.95     35.281723  \n",
              "\n",
              "[4788 rows x 39 columns]"
            ]
          },
          "execution_count": 21,
          "metadata": {},
          "output_type": "execute_result"
        }
      ],
      "source": [
        "y=pd.read_pickle('xtrainSet.csv')\n",
        "y"
      ]
    },
    {
      "cell_type": "code",
      "execution_count": null,
      "id": "2bed8e86",
      "metadata": {
        "id": "2bed8e86"
      },
      "outputs": [],
      "source": [
        "y=pd.DataFrame(data=y,columns=['Churn'])"
      ]
    },
    {
      "cell_type": "code",
      "execution_count": null,
      "id": "0be93552",
      "metadata": {
        "id": "0be93552"
      },
      "outputs": [],
      "source": [
        "pickle.dump(scaler, open('scaler1.pkl','wb'))"
      ]
    },
    {
      "cell_type": "code",
      "execution_count": null,
      "id": "02d647f9",
      "metadata": {
        "id": "02d647f9"
      },
      "outputs": [],
      "source": [
        "scl = pickle.load(open('scaler1.pkl','rb'))"
      ]
    },
    {
      "cell_type": "code",
      "execution_count": null,
      "id": "bb167886",
      "metadata": {
        "id": "bb167886",
        "outputId": "bd93902b-a927-407b-f9f4-30ce4b823a6d"
      },
      "outputs": [
        {
          "data": {
            "text/plain": [
              "MinMaxScaler()"
            ]
          },
          "execution_count": 79,
          "metadata": {},
          "output_type": "execute_result"
        }
      ],
      "source": [
        "scl"
      ]
    },
    {
      "cell_type": "code",
      "execution_count": null,
      "id": "20bb7465",
      "metadata": {
        "id": "20bb7465"
      },
      "outputs": [],
      "source": [
        "b1 =scl.transform(b1.values.reshape(1, -1))"
      ]
    },
    {
      "cell_type": "code",
      "execution_count": null,
      "id": "e18db17b",
      "metadata": {
        "id": "e18db17b"
      },
      "outputs": [],
      "source": [
        "b1=np.around(b1,decimals=6)"
      ]
    }
  ],
  "metadata": {
    "hide_input": false,
    "kernelspec": {
      "display_name": "Python 3 (ipykernel)",
      "language": "python",
      "name": "python3"
    },
    "language_info": {
      "codemirror_mode": {
        "name": "ipython",
        "version": 3
      },
      "file_extension": ".py",
      "mimetype": "text/x-python",
      "name": "python",
      "nbconvert_exporter": "python",
      "pygments_lexer": "ipython3",
      "version": "3.11.7"
    },
    "latex_envs": {
      "LaTeX_envs_menu_present": true,
      "autoclose": false,
      "autocomplete": true,
      "bibliofile": "biblio.bib",
      "cite_by": "apalike",
      "current_citInitial": 1,
      "eqLabelWithNumbers": true,
      "eqNumInitial": 1,
      "hotkeys": {
        "equation": "Ctrl-E",
        "itemize": "Ctrl-I"
      },
      "labels_anchors": false,
      "latex_user_defs": false,
      "report_style_numbering": false,
      "user_envs_cfg": false
    },
    "nbTranslate": {
      "displayLangs": [
        "*"
      ],
      "hotkey": "alt-t",
      "langInMainMenu": true,
      "sourceLang": "en",
      "targetLang": "fr",
      "useGoogleTranslate": true
    },
    "toc": {
      "base_numbering": 1,
      "nav_menu": {},
      "number_sections": false,
      "sideBar": true,
      "skip_h1_title": false,
      "title_cell": "Table of Contents",
      "title_sidebar": "Contents",
      "toc_cell": true,
      "toc_position": {
        "height": "calc(100% - 180px)",
        "left": "10px",
        "top": "150px",
        "width": "307.2px"
      },
      "toc_section_display": true,
      "toc_window_display": true
    },
    "varInspector": {
      "cols": {
        "lenName": 16,
        "lenType": 16,
        "lenVar": 40
      },
      "kernels_config": {
        "python": {
          "delete_cmd_postfix": "",
          "delete_cmd_prefix": "del ",
          "library": "var_list.py",
          "varRefreshCmd": "print(var_dic_list())"
        },
        "r": {
          "delete_cmd_postfix": ") ",
          "delete_cmd_prefix": "rm(",
          "library": "var_list.r",
          "varRefreshCmd": "cat(var_dic_list()) "
        }
      },
      "types_to_exclude": [
        "module",
        "function",
        "builtin_function_or_method",
        "instance",
        "_Feature"
      ],
      "window_display": false
    },
    "colab": {
      "provenance": [],
      "include_colab_link": true
    }
  },
  "nbformat": 4,
  "nbformat_minor": 5
}